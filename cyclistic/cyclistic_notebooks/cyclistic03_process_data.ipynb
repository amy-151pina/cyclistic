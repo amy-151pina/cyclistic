{
 "cells": [
  {
   "cell_type": "markdown",
   "id": "0f673314",
   "metadata": {},
   "source": [
    "# PROCESS"
   ]
  },
  {
   "cell_type": "markdown",
   "id": "964db930",
   "metadata": {},
   "source": [
    "In this section I will complete the following key tasks: 1. Check the data for errors. 2. Transform the data so I can work with it effectively. 3. Document the cleaning process."
   ]
  },
  {
   "cell_type": "markdown",
   "id": "bef5c57a",
   "metadata": {},
   "source": [
    "## 3.1 Contents"
   ]
  },
  {
   "cell_type": "markdown",
   "id": "817db5b5",
   "metadata": {},
   "source": [
    "In this section I will complete the following key tasks:\n",
    "    1. Check the data for errors.\n",
    "    2. Transform the data so I can work with it effectively.\n",
    "    3. Document the cleaning process."
   ]
  },
  {
   "cell_type": "markdown",
   "id": "05ac5931",
   "metadata": {},
   "source": [
    "## 3.2 Introduction"
   ]
  },
  {
   "cell_type": "markdown",
   "id": "e9b82c06",
   "metadata": {},
   "source": [
    "The loaded DataFrame has 12 columns with 5,682,196 entries. In this section I will clean the dataset."
   ]
  },
  {
   "cell_type": "markdown",
   "id": "f16167d8",
   "metadata": {},
   "source": [
    "## 3.3 Imports"
   ]
  },
  {
   "cell_type": "code",
   "execution_count": 177,
   "id": "a91b74cd",
   "metadata": {},
   "outputs": [],
   "source": [
    "import pandas as pd\n",
    "import numpy as np\n",
    "import os\n",
    "import matplotlib.pyplot as plt\n",
    "import seaborn as sns"
   ]
  },
  {
   "cell_type": "markdown",
   "id": "f2c8c754",
   "metadata": {},
   "source": [
    "## 3.4 Load Data"
   ]
  },
  {
   "cell_type": "code",
   "execution_count": 178,
   "id": "72ef5936",
   "metadata": {},
   "outputs": [],
   "source": [
    "df = pd.read_csv('df_cyclistic_prepared.csv')"
   ]
  },
  {
   "cell_type": "code",
   "execution_count": 179,
   "id": "bb849938",
   "metadata": {},
   "outputs": [
    {
     "name": "stdout",
     "output_type": "stream",
     "text": [
      "<class 'pandas.core.frame.DataFrame'>\n",
      "RangeIndex: 5682196 entries, 0 to 5682195\n",
      "Data columns (total 13 columns):\n",
      " #   Column              Dtype  \n",
      "---  ------              -----  \n",
      " 0   ride_id             object \n",
      " 1   rideable_type       object \n",
      " 2   started_at          object \n",
      " 3   ended_at            object \n",
      " 4   start_station_name  object \n",
      " 5   start_station_id    object \n",
      " 6   end_station_name    object \n",
      " 7   end_station_id      object \n",
      " 8   start_lat           float64\n",
      " 9   start_lng           float64\n",
      " 10  end_lat             float64\n",
      " 11  end_lng             float64\n",
      " 12  member_casual       object \n",
      "dtypes: float64(4), object(9)\n",
      "memory usage: 563.6+ MB\n"
     ]
    }
   ],
   "source": [
    "# Review 'df'  info. Check column names against datatypes.\n",
    "df.info()"
   ]
  },
  {
   "cell_type": "code",
   "execution_count": 180,
   "id": "a95f76d5",
   "metadata": {},
   "outputs": [
    {
     "data": {
      "text/plain": [
       "5682196"
      ]
     },
     "execution_count": 180,
     "metadata": {},
     "output_type": "execute_result"
    }
   ],
   "source": [
    "len(df)"
   ]
  },
  {
   "cell_type": "markdown",
   "id": "29068098",
   "metadata": {},
   "source": [
    "'started_at' and 'ended_at' columns currently object dtype. Convert to datetime to do calculations more efficiently."
   ]
  },
  {
   "cell_type": "code",
   "execution_count": 181,
   "id": "ce4c1945",
   "metadata": {},
   "outputs": [
    {
     "ename": "ValueError",
     "evalue": "unconverted data remains when parsing with format \"%Y-%m-%d %H:%M:%S\": \".289\", at position 1694242. You might want to try:\n    - passing `format` if your strings have a consistent format;\n    - passing `format='ISO8601'` if your strings are all ISO8601 but not necessarily in exactly the same format;\n    - passing `format='mixed'`, and the format will be inferred for each element individually. You might want to use `dayfirst` alongside this.",
     "output_type": "error",
     "traceback": [
      "\u001b[0;31m---------------------------------------------------------------------------\u001b[0m",
      "\u001b[0;31mValueError\u001b[0m                                Traceback (most recent call last)",
      "Cell \u001b[0;32mIn[181], line 1\u001b[0m\n\u001b[0;32m----> 1\u001b[0m df[\u001b[38;5;124m'\u001b[39m\u001b[38;5;124mstarted_at\u001b[39m\u001b[38;5;124m'\u001b[39m] \u001b[38;5;241m=\u001b[39m pd\u001b[38;5;241m.\u001b[39mto_datetime(df[\u001b[38;5;124m'\u001b[39m\u001b[38;5;124mstarted_at\u001b[39m\u001b[38;5;124m'\u001b[39m], \u001b[38;5;28mformat\u001b[39m\u001b[38;5;241m=\u001b[39m\u001b[38;5;124m'\u001b[39m\u001b[38;5;124m%\u001b[39m\u001b[38;5;124mY-\u001b[39m\u001b[38;5;124m%\u001b[39m\u001b[38;5;124mm-\u001b[39m\u001b[38;5;132;01m%d\u001b[39;00m\u001b[38;5;124m \u001b[39m\u001b[38;5;124m%\u001b[39m\u001b[38;5;124mH:\u001b[39m\u001b[38;5;124m%\u001b[39m\u001b[38;5;124mM:\u001b[39m\u001b[38;5;124m%\u001b[39m\u001b[38;5;124mS\u001b[39m\u001b[38;5;124m'\u001b[39m)\n",
      "File \u001b[0;32m/opt/anaconda3/lib/python3.11/site-packages/pandas/core/tools/datetimes.py:1112\u001b[0m, in \u001b[0;36mto_datetime\u001b[0;34m(arg, errors, dayfirst, yearfirst, utc, format, exact, unit, infer_datetime_format, origin, cache)\u001b[0m\n\u001b[1;32m   1110\u001b[0m         result \u001b[38;5;241m=\u001b[39m arg\u001b[38;5;241m.\u001b[39mmap(cache_array)\n\u001b[1;32m   1111\u001b[0m     \u001b[38;5;28;01melse\u001b[39;00m:\n\u001b[0;32m-> 1112\u001b[0m         values \u001b[38;5;241m=\u001b[39m convert_listlike(arg\u001b[38;5;241m.\u001b[39m_values, \u001b[38;5;28mformat\u001b[39m)\n\u001b[1;32m   1113\u001b[0m         result \u001b[38;5;241m=\u001b[39m arg\u001b[38;5;241m.\u001b[39m_constructor(values, index\u001b[38;5;241m=\u001b[39marg\u001b[38;5;241m.\u001b[39mindex, name\u001b[38;5;241m=\u001b[39marg\u001b[38;5;241m.\u001b[39mname)\n\u001b[1;32m   1114\u001b[0m \u001b[38;5;28;01melif\u001b[39;00m \u001b[38;5;28misinstance\u001b[39m(arg, (ABCDataFrame, abc\u001b[38;5;241m.\u001b[39mMutableMapping)):\n",
      "File \u001b[0;32m/opt/anaconda3/lib/python3.11/site-packages/pandas/core/tools/datetimes.py:488\u001b[0m, in \u001b[0;36m_convert_listlike_datetimes\u001b[0;34m(arg, format, name, utc, unit, errors, dayfirst, yearfirst, exact)\u001b[0m\n\u001b[1;32m    486\u001b[0m \u001b[38;5;66;03m# `format` could be inferred, or user didn't ask for mixed-format parsing.\u001b[39;00m\n\u001b[1;32m    487\u001b[0m \u001b[38;5;28;01mif\u001b[39;00m \u001b[38;5;28mformat\u001b[39m \u001b[38;5;129;01mis\u001b[39;00m \u001b[38;5;129;01mnot\u001b[39;00m \u001b[38;5;28;01mNone\u001b[39;00m \u001b[38;5;129;01mand\u001b[39;00m \u001b[38;5;28mformat\u001b[39m \u001b[38;5;241m!=\u001b[39m \u001b[38;5;124m\"\u001b[39m\u001b[38;5;124mmixed\u001b[39m\u001b[38;5;124m\"\u001b[39m:\n\u001b[0;32m--> 488\u001b[0m     \u001b[38;5;28;01mreturn\u001b[39;00m _array_strptime_with_fallback(arg, name, utc, \u001b[38;5;28mformat\u001b[39m, exact, errors)\n\u001b[1;32m    490\u001b[0m result, tz_parsed \u001b[38;5;241m=\u001b[39m objects_to_datetime64ns(\n\u001b[1;32m    491\u001b[0m     arg,\n\u001b[1;32m    492\u001b[0m     dayfirst\u001b[38;5;241m=\u001b[39mdayfirst,\n\u001b[0;32m   (...)\u001b[0m\n\u001b[1;32m    496\u001b[0m     allow_object\u001b[38;5;241m=\u001b[39m\u001b[38;5;28;01mTrue\u001b[39;00m,\n\u001b[1;32m    497\u001b[0m )\n\u001b[1;32m    499\u001b[0m \u001b[38;5;28;01mif\u001b[39;00m tz_parsed \u001b[38;5;129;01mis\u001b[39;00m \u001b[38;5;129;01mnot\u001b[39;00m \u001b[38;5;28;01mNone\u001b[39;00m:\n\u001b[1;32m    500\u001b[0m     \u001b[38;5;66;03m# We can take a shortcut since the datetime64 numpy array\u001b[39;00m\n\u001b[1;32m    501\u001b[0m     \u001b[38;5;66;03m# is in UTC\u001b[39;00m\n",
      "File \u001b[0;32m/opt/anaconda3/lib/python3.11/site-packages/pandas/core/tools/datetimes.py:519\u001b[0m, in \u001b[0;36m_array_strptime_with_fallback\u001b[0;34m(arg, name, utc, fmt, exact, errors)\u001b[0m\n\u001b[1;32m    508\u001b[0m \u001b[38;5;28;01mdef\u001b[39;00m \u001b[38;5;21m_array_strptime_with_fallback\u001b[39m(\n\u001b[1;32m    509\u001b[0m     arg,\n\u001b[1;32m    510\u001b[0m     name,\n\u001b[0;32m   (...)\u001b[0m\n\u001b[1;32m    514\u001b[0m     errors: \u001b[38;5;28mstr\u001b[39m,\n\u001b[1;32m    515\u001b[0m ) \u001b[38;5;241m-\u001b[39m\u001b[38;5;241m>\u001b[39m Index:\n\u001b[1;32m    516\u001b[0m \u001b[38;5;250m    \u001b[39m\u001b[38;5;124;03m\"\"\"\u001b[39;00m\n\u001b[1;32m    517\u001b[0m \u001b[38;5;124;03m    Call array_strptime, with fallback behavior depending on 'errors'.\u001b[39;00m\n\u001b[1;32m    518\u001b[0m \u001b[38;5;124;03m    \"\"\"\u001b[39;00m\n\u001b[0;32m--> 519\u001b[0m     result, timezones \u001b[38;5;241m=\u001b[39m array_strptime(arg, fmt, exact\u001b[38;5;241m=\u001b[39mexact, errors\u001b[38;5;241m=\u001b[39merrors, utc\u001b[38;5;241m=\u001b[39mutc)\n\u001b[1;32m    520\u001b[0m     \u001b[38;5;28;01mif\u001b[39;00m \u001b[38;5;28many\u001b[39m(tz \u001b[38;5;129;01mis\u001b[39;00m \u001b[38;5;129;01mnot\u001b[39;00m \u001b[38;5;28;01mNone\u001b[39;00m \u001b[38;5;28;01mfor\u001b[39;00m tz \u001b[38;5;129;01min\u001b[39;00m timezones):\n\u001b[1;32m    521\u001b[0m         \u001b[38;5;28;01mreturn\u001b[39;00m _return_parsed_timezone_results(result, timezones, utc, name)\n",
      "File \u001b[0;32mstrptime.pyx:534\u001b[0m, in \u001b[0;36mpandas._libs.tslibs.strptime.array_strptime\u001b[0;34m()\u001b[0m\n",
      "File \u001b[0;32mstrptime.pyx:359\u001b[0m, in \u001b[0;36mpandas._libs.tslibs.strptime.array_strptime\u001b[0;34m()\u001b[0m\n",
      "\u001b[0;31mValueError\u001b[0m: unconverted data remains when parsing with format \"%Y-%m-%d %H:%M:%S\": \".289\", at position 1694242. You might want to try:\n    - passing `format` if your strings have a consistent format;\n    - passing `format='ISO8601'` if your strings are all ISO8601 but not necessarily in exactly the same format;\n    - passing `format='mixed'`, and the format will be inferred for each element individually. You might want to use `dayfirst` alongside this."
     ]
    }
   ],
   "source": [
    "df['started_at'] = pd.to_datetime(df['started_at'], format='%Y-%m-%d %H:%M:%S')"
   ]
  },
  {
   "cell_type": "markdown",
   "id": "a7178ede",
   "metadata": {},
   "source": [
    "Threw ValueError when trying to convert 'started_at' and 'ended_at' to datetime. Investigate problemativ row(s)."
   ]
  },
  {
   "cell_type": "code",
   "execution_count": 182,
   "id": "241a9383",
   "metadata": {},
   "outputs": [
    {
     "name": "stdout",
     "output_type": "stream",
     "text": [
      "ride_id                      CDE6023BE6B11D2F\n",
      "rideable_type                   electric_bike\n",
      "started_at            2024-06-11 17:20:06.289\n",
      "ended_at              2024-06-11 17:21:39.464\n",
      "start_station_name                        NaN\n",
      "start_station_id                          NaN\n",
      "end_station_name                          NaN\n",
      "end_station_id                            NaN\n",
      "start_lat                               41.89\n",
      "start_lng                              -87.65\n",
      "end_lat                                 41.89\n",
      "end_lng                                -87.65\n",
      "member_casual                          casual\n",
      "Name: 1694242, dtype: object\n"
     ]
    }
   ],
   "source": [
    "# investigate problematic rows - 'started_at' does not conform to datetime format\n",
    "problem_row = df.loc[1694242]\n",
    "print(problem_row)"
   ]
  },
  {
   "cell_type": "markdown",
   "id": "dfca329b",
   "metadata": {},
   "source": [
    "I can see this row has fractional seconds in 'started_at' and 'ended_at' columns. This will interfere with conversion to datetime dtype."
   ]
  },
  {
   "cell_type": "code",
   "execution_count": 184,
   "id": "9c01b93b",
   "metadata": {},
   "outputs": [
    {
     "name": "stdout",
     "output_type": "stream",
     "text": [
      "Number of observations with fractional seconds in 'started_at' column: 3987954\n"
     ]
    }
   ],
   "source": [
    "# count observations with fractional seconds in 'started_at'\n",
    "count_frxnal_seconds = df['started_at'].str.contains(r'\\.\\d+').sum()\n",
    "print(f\"Number of observations with fractional seconds in 'started_at' column: {count_frxnal_seconds}\")"
   ]
  },
  {
   "cell_type": "code",
   "execution_count": 185,
   "id": "7eac58d2",
   "metadata": {},
   "outputs": [
    {
     "name": "stdout",
     "output_type": "stream",
     "text": [
      "Percent of dataset with fractional seconds: 70.18332348972123\n"
     ]
    }
   ],
   "source": [
    "# ratio of dataset that has fractional seconds\n",
    "ratio_frxnal_seconds = count_frxnal_seconds/(len(df))*100\n",
    "print(f\"Percent of dataset with fractional seconds: {ratio_frxnal_seconds}\")"
   ]
  },
  {
   "cell_type": "markdown",
   "id": "530333dc",
   "metadata": {},
   "source": [
    "70% of the dataset has fractional seconds. Therefore, I cannot easily convert 'started_at' and 'ended_at' columns to datetime format. I will add .000 to the end of the 30% of the 'started_at'/'ended_at' that did not have fractional seconds and round.\n",
    "\n",
    "***For the purposes of this analysis this type of precision is not necessary. Removing the fractional seconds then converting to datetime would have sufficed."
   ]
  },
  {
   "cell_type": "code",
   "execution_count": 186,
   "id": "d207e880",
   "metadata": {},
   "outputs": [],
   "source": [
    "def add_fractional_seconds(df):\n",
    "    \"\"\"\n",
    "    Adds '.000' to timestamps in 'started_at' and 'ended_at' columns that do not alread have fractional seconds.\n",
    "    \n",
    "    Args:\n",
    "        df: The pandas DataFrame\n",
    "        \n",
    "    Returns:\n",
    "        The DataFrame with modified timestamps.\n",
    "    \"\"\"\n",
    "    \n",
    "    df['started_at'] = df['started_at'].apply(lambda x: x+'.000' if not '.' in x else x)\n",
    "    df['ended_at'] = df['ended_at'].apply(lambda x: x+'.000' if not '.' in x else x)\n",
    "    return df\n",
    "\n",
    "#re-establish dfb\n",
    "df = add_fractional_seconds(df)"
   ]
  },
  {
   "cell_type": "markdown",
   "id": "95ded85e",
   "metadata": {},
   "source": [
    "Now convert 'started_at' and 'ended_at' to datetime."
   ]
  },
  {
   "cell_type": "code",
   "execution_count": 187,
   "id": "08dc5e85",
   "metadata": {},
   "outputs": [],
   "source": [
    "# convert 'started_at' and 'ended_at' columns to datetime\n",
    "df['started_at'] = pd.to_datetime(df['started_at'])\n",
    "df['ended_at'] = pd.to_datetime(df['ended_at'])"
   ]
  },
  {
   "cell_type": "markdown",
   "id": "4e1154ab",
   "metadata": {},
   "source": [
    "Review DataFrame"
   ]
  },
  {
   "cell_type": "code",
   "execution_count": 188,
   "id": "8c7d0177",
   "metadata": {},
   "outputs": [
    {
     "name": "stdout",
     "output_type": "stream",
     "text": [
      "<class 'pandas.core.frame.DataFrame'>\n",
      "RangeIndex: 5682196 entries, 0 to 5682195\n",
      "Data columns (total 13 columns):\n",
      " #   Column              Dtype         \n",
      "---  ------              -----         \n",
      " 0   ride_id             object        \n",
      " 1   rideable_type       object        \n",
      " 2   started_at          datetime64[ns]\n",
      " 3   ended_at            datetime64[ns]\n",
      " 4   start_station_name  object        \n",
      " 5   start_station_id    object        \n",
      " 6   end_station_name    object        \n",
      " 7   end_station_id      object        \n",
      " 8   start_lat           float64       \n",
      " 9   start_lng           float64       \n",
      " 10  end_lat             float64       \n",
      " 11  end_lng             float64       \n",
      " 12  member_casual       object        \n",
      "dtypes: datetime64[ns](2), float64(4), object(7)\n",
      "memory usage: 563.6+ MB\n"
     ]
    }
   ],
   "source": [
    "# calculate and create a column called 'ride_length'\n",
    "df.info() "
   ]
  },
  {
   "cell_type": "markdown",
   "id": "796e00b0",
   "metadata": {},
   "source": [
    "Check for null values in all columns"
   ]
  },
  {
   "cell_type": "code",
   "execution_count": 189,
   "id": "24a8a4a2",
   "metadata": {},
   "outputs": [
    {
     "name": "stdout",
     "output_type": "stream",
     "text": [
      "Null Value Summary:\n",
      "                     Null Count  Null Percentage\n",
      "ride_id                      0             0.00\n",
      "rideable_type                0             0.00\n",
      "started_at                   0             0.00\n",
      "ended_at                     0             0.00\n",
      "start_station_name     1044760            18.39\n",
      "start_station_id       1044760            18.39\n",
      "end_station_name       1073877            18.90\n",
      "end_station_id         1073877            18.90\n",
      "start_lat                    0             0.00\n",
      "start_lng                    0             0.00\n",
      "end_lat                   7101             0.12\n",
      "end_lng                   7101             0.12\n",
      "member_casual                0             0.00\n"
     ]
    }
   ],
   "source": [
    "# count number of null values in each column\n",
    "null_counts = df.isnull().sum()\n",
    "\n",
    "# calculate the % of null values in each column\n",
    "null_percents = (null_counts/len(df)) * 100\n",
    "\n",
    "# create a DataFrame to display results\n",
    "null_summary = pd.DataFrame({'Null Count': null_counts,\n",
    "                            'Null Percentage': null_percents.round(2)})\n",
    "\n",
    "# print results\n",
    "print(\"Null Value Summary:\\n\", null_summary)"
   ]
  },
  {
   "cell_type": "markdown",
   "id": "3c480ed9",
   "metadata": {},
   "source": [
    "'end_lat' and 'end_lng' columns have null values in 0.12% of rows. Not statistically significant. I will drop these."
   ]
  },
  {
   "cell_type": "code",
   "execution_count": 190,
   "id": "9101ea44",
   "metadata": {},
   "outputs": [
    {
     "name": "stdout",
     "output_type": "stream",
     "text": [
      "ride_id                     0\n",
      "rideable_type               0\n",
      "started_at                  0\n",
      "ended_at                    0\n",
      "start_station_name    1044760\n",
      "start_station_id      1044760\n",
      "end_station_name      1066776\n",
      "end_station_id        1066776\n",
      "start_lat                   0\n",
      "start_lng                   0\n",
      "end_lat                     0\n",
      "end_lng                     0\n",
      "member_casual               0\n",
      "dtype: int64\n"
     ]
    }
   ],
   "source": [
    "# drop rows containing null values in 'end_lat' and 'end_lng' columns\n",
    "df = df.dropna(subset=['end_lat', 'end_lng'])\n",
    "print(df.isnull().sum())"
   ]
  },
  {
   "cell_type": "code",
   "execution_count": 191,
   "id": "f74535d6",
   "metadata": {},
   "outputs": [
    {
     "name": "stdout",
     "output_type": "stream",
     "text": [
      "<class 'pandas.core.series.Series'>\n",
      "Index: 13 entries, ride_id to member_casual\n",
      "Series name: None\n",
      "Non-Null Count  Dtype\n",
      "--------------  -----\n",
      "13 non-null     int64\n",
      "dtypes: int64(1)\n",
      "memory usage: 764.0+ bytes\n"
     ]
    }
   ],
   "source": [
    "null_counts.info()"
   ]
  },
  {
   "cell_type": "markdown",
   "id": "2bf439a8",
   "metadata": {},
   "source": [
    "#### Note: (This next section I can probably delete, not relevant to work moving forward.) The start/end station columns have a significant # of nulls values (~20% of rows). The following work is me trying to determine if the lat and lng data was precise enough to replace station name/id info (lat/lng gets more precise with more decimal points on the coordinate)."
   ]
  },
  {
   "cell_type": "code",
   "execution_count": 192,
   "id": "49f9c7cb",
   "metadata": {},
   "outputs": [
    {
     "name": "stdout",
     "output_type": "stream",
     "text": [
      "Decimal Place Counts for 'start_lat':\n",
      " start_lat\n",
      "6     2126737\n",
      "2      936765\n",
      "9      741556\n",
      "14     540994\n",
      "11     289371\n",
      "5      257011\n",
      "15     163179\n",
      "8      132154\n",
      "10     122541\n",
      "7      122479\n",
      "1      107999\n",
      "13      91300\n",
      "4       42485\n",
      "12        364\n",
      "3         160\n",
      "Name: count, dtype: int64\n",
      "\n",
      "Decimal Place Counts for 'end_lat':\n",
      " end_lat\n",
      "6     2635945\n",
      "2      956626\n",
      "14     572520\n",
      "11     360895\n",
      "5      332355\n",
      "15     163199\n",
      "10     152161\n",
      "13     110333\n",
      "1      110150\n",
      "7      102100\n",
      "8       72748\n",
      "4       52918\n",
      "9       52396\n",
      "12        496\n",
      "3         253\n",
      "Name: count, dtype: int64\n",
      "Decimal Place Counts for 'start_lng':\n",
      " start_lng\n",
      "6     2007678\n",
      "2      998002\n",
      "9      725207\n",
      "14     724408\n",
      "10     423322\n",
      "5      323268\n",
      "8      161715\n",
      "7      108763\n",
      "13      74719\n",
      "4       69639\n",
      "1       46760\n",
      "3       11614\n",
      "Name: count, dtype: int64\n",
      "\n",
      "Decimal Place Counts for 'end_lng':\n",
      " end_lng\n",
      "6     2492149\n",
      "2     1018481\n",
      "14     753292\n",
      "10     523836\n",
      "5      411040\n",
      "8      107357\n",
      "13      93262\n",
      "4       90419\n",
      "7       83584\n",
      "1       48295\n",
      "9       39627\n",
      "3       13753\n",
      "Name: count, dtype: int64\n"
     ]
    }
   ],
   "source": [
    "def count_decimal_places(df, col_name):\n",
    "  \"\"\"\n",
    "  Counts the number of observations with each amount of decimal places \n",
    "  in the specified column of a DataFrame.\n",
    "\n",
    "  Args:\n",
    "    df: The pandas DataFrame.\n",
    "    col_name: The name of the column to analyze.\n",
    "\n",
    "  Returns:\n",
    "    A pandas Series containing the counts of observations for each \n",
    "    number of decimal places.\n",
    "  \"\"\"\n",
    "\n",
    "  # Extract the decimal part of the column\n",
    "  decimal_parts = df[col_name].astype(str).str.split('.').str[1] \n",
    "\n",
    "  # Handle cases where there are no decimal places\n",
    "  decimal_parts = decimal_parts.fillna('') \n",
    "\n",
    "  # Count the number of decimal places for each observation\n",
    "  decimal_place_counts = decimal_parts.str.len() \n",
    "\n",
    "  # Count the occurrences of each decimal place count\n",
    "  decimal_place_counts = decimal_place_counts.value_counts()\n",
    "\n",
    "  return decimal_place_counts\n",
    "\n",
    "# Assuming 'df' is your DataFrame\n",
    "start_lat_decimal_counts = count_decimal_places(df, 'start_lat')\n",
    "end_lat_decimal_counts = count_decimal_places(df, 'end_lat')\n",
    "\n",
    "start_lng_decimal_counts = count_decimal_places(df, 'start_lng')\n",
    "end_lng_decimal_counts = count_decimal_places(df, 'end_lng')\n",
    "\n",
    "\n",
    "print(\"Decimal Place Counts for 'start_lat':\\n\", start_lat_decimal_counts)\n",
    "print(\"\\nDecimal Place Counts for 'end_lat':\\n\", end_lat_decimal_counts)\n",
    "\n",
    "print(\"Decimal Place Counts for 'start_lng':\\n\", start_lng_decimal_counts)\n",
    "print(\"\\nDecimal Place Counts for 'end_lng':\\n\", end_lng_decimal_counts)"
   ]
  },
  {
   "cell_type": "code",
   "execution_count": 193,
   "id": "d08ddb0e",
   "metadata": {},
   "outputs": [],
   "source": [
    "# decided that for this analysis lat/lng data is sufficient, station name/id is not needed. Therefore I will drop 4 colummns: start_station_name, start_station_id, end_station_name, end_station_id\n",
    "df = df.drop(columns=['start_station_name', 'start_station_id', 'end_station_name', 'end_station_id'])"
   ]
  },
  {
   "cell_type": "markdown",
   "id": "ab5132f2",
   "metadata": {},
   "source": [
    "One last check for nulls in 'df'."
   ]
  },
  {
   "cell_type": "code",
   "execution_count": 194,
   "id": "f98ba40b",
   "metadata": {},
   "outputs": [
    {
     "name": "stdout",
     "output_type": "stream",
     "text": [
      "ride_id          0\n",
      "rideable_type    0\n",
      "started_at       0\n",
      "ended_at         0\n",
      "start_lat        0\n",
      "start_lng        0\n",
      "end_lat          0\n",
      "end_lng          0\n",
      "member_casual    0\n",
      "dtype: int64\n"
     ]
    }
   ],
   "source": [
    "print(df.isnull().sum())"
   ]
  },
  {
   "cell_type": "markdown",
   "id": "f66663ef",
   "metadata": {},
   "source": [
    "No nulls in DataFrame. Next, I will check for duplicates."
   ]
  },
  {
   "cell_type": "code",
   "execution_count": 195,
   "id": "4436cedf",
   "metadata": {},
   "outputs": [],
   "source": [
    "# find duplicate rows based on all columns\n",
    "duplicate_rows = df[df.duplicated()]"
   ]
  },
  {
   "cell_type": "code",
   "execution_count": 196,
   "id": "746c8b05",
   "metadata": {},
   "outputs": [
    {
     "name": "stdout",
     "output_type": "stream",
     "text": [
      "Number of duplicate rows: 0\n",
      "% of dataset that are duplicates: 0.0\n"
     ]
    }
   ],
   "source": [
    "# count the number of duplicate rows\n",
    "num_duplicates = len(duplicate_rows)\n",
    "\n",
    "# calculate percentage duplicates make up of dataset \n",
    "percent_duplicates = num_duplicates / len(df) * 100\n",
    "\n",
    "print(f\"Number of duplicate rows: {num_duplicates}\")\n",
    "print(f\"% of dataset that are duplicates: {percent_duplicates}\")"
   ]
  },
  {
   "cell_type": "markdown",
   "id": "21b6a5e2",
   "metadata": {},
   "source": [
    "#### Note: During my first attempt, 10% of the dataset was duplicate rows. They all appeared to be in August. Upon further investigation, I realized that I had uploaded the August csv twice and did not load the September csv from raw data. Below are the steps I took to investigate and resolve the issue. \n",
    "\n",
    "#### Again, not relevant to this notebook, but keeping for now for my own learning purposes."
   ]
  },
  {
   "cell_type": "markdown",
   "id": "bd0565c9",
   "metadata": {},
   "source": [
    "duplicate_rows.groupby(['ride_id'])\n",
    "print(duplicate_rows.groupby(['ride_id']).head(20))\n",
    "\n",
    "check for duplicates\n",
    "find duplicate rows based on ride_id column\n",
    "duplicate_ride_ids = df['ride_id'].duplicated(keep=False)\n",
    "\n",
    "filter the DataFrame to include only rows with duplicate 'ride_id'\n",
    "rows_with_duplicate_ride_ids = df[duplicate_ride_ids]\n",
    "\n",
    "sort the duplicate rows by 'ride_id'\n",
    "rows_with_duplicate_ride_ids = rows_with_duplicate_ride_ids.sort_values(by='ride_id')\n",
    "\n",
    "print the sorted duplicate rows\n",
    "print(rows_with_duplicate_ride_ids)\n",
    "\n",
    "rows_with_duplicate_ride_ids.info()\n",
    "\n",
    "rows_with_duplicate_ride_ids.groupby(['ride_id'])\n",
    "print(rows_with_duplicate_ride_ids.head())\n",
    "\n",
    "rows_with_duplicate_ride_ids.groupby(['ride_id'])\n",
    "print(rows_with_duplicate_ride_ids.tail())\n",
    "\n",
    "example_duplicate = df[df['ride_id'] == '00001004F8DF01C8']\n",
    "\n",
    "print the selected rows\n",
    "print(example_duplicate)\n",
    "\n",
    "All duplicates seem to be in the month of August. Checking imported dfs to make sure August was not somehow uploaded twice.\n",
    "\n",
    "df8.info()\n",
    "df8.head()\n",
    "\n",
    "print(len(df8))\n",
    "\n",
    "columns 10 (end_lat) and 11 (end_lng) have 754612 non-null values --> the same as number of duplicates listed. Must be a code error.\n",
    "\n",
    "Error identified in cell 20: original import brought in august twice and no september. Fixed."
   ]
  },
  {
   "cell_type": "markdown",
   "id": "176ab1e6",
   "metadata": {},
   "source": [
    "Next, I will calculate the ride length by subtracting 'started_at' from 'ended_at' and add this data as a new column called 'ride_length'."
   ]
  },
  {
   "cell_type": "code",
   "execution_count": 197,
   "id": "8762e52a",
   "metadata": {},
   "outputs": [
    {
     "name": "stdout",
     "output_type": "stream",
     "text": [
      "            ride_id  rideable_type          started_at            ended_at  \\\n",
      "0  C1D650626C8C899A  electric_bike 2024-01-12 15:30:27 2024-01-12 15:37:59   \n",
      "1  EECD38BDB25BFCB0  electric_bike 2024-01-08 15:45:46 2024-01-08 15:52:59   \n",
      "2  F4A9CE78061F17F7  electric_bike 2024-01-27 12:27:19 2024-01-27 12:35:19   \n",
      "3  0A0D9E15EE50B171   classic_bike 2024-01-29 16:26:17 2024-01-29 16:56:06   \n",
      "4  33FFC9805E3EFF9A   classic_bike 2024-01-31 05:43:23 2024-01-31 06:09:35   \n",
      "\n",
      "   start_lat  start_lng    end_lat    end_lng member_casual     ride_length  \n",
      "0  41.903267 -87.634737  41.889177 -87.638506        member 0 days 00:07:32  \n",
      "1  41.902937 -87.634440  41.889177 -87.638506        member 0 days 00:07:13  \n",
      "2  41.902951 -87.634470  41.889177 -87.638506        member 0 days 00:08:00  \n",
      "3  41.884295 -87.633963  41.921822 -87.644140        member 0 days 00:29:49  \n",
      "4  41.948797 -87.675278  41.889177 -87.638506        member 0 days 00:26:12  \n"
     ]
    }
   ],
   "source": [
    "# calculate ride length and add new column to dataframe\n",
    "\n",
    "df['ride_length'] = (df['ended_at'] - df['started_at'])\n",
    "print(df.head())"
   ]
  },
  {
   "cell_type": "code",
   "execution_count": 198,
   "id": "6b9fe339",
   "metadata": {},
   "outputs": [
    {
     "data": {
      "text/html": [
       "<div>\n",
       "<style scoped>\n",
       "    .dataframe tbody tr th:only-of-type {\n",
       "        vertical-align: middle;\n",
       "    }\n",
       "\n",
       "    .dataframe tbody tr th {\n",
       "        vertical-align: top;\n",
       "    }\n",
       "\n",
       "    .dataframe thead th {\n",
       "        text-align: right;\n",
       "    }\n",
       "</style>\n",
       "<table border=\"1\" class=\"dataframe\">\n",
       "  <thead>\n",
       "    <tr style=\"text-align: right;\">\n",
       "      <th></th>\n",
       "      <th>ride_id</th>\n",
       "      <th>rideable_type</th>\n",
       "      <th>started_at</th>\n",
       "      <th>ended_at</th>\n",
       "      <th>start_lat</th>\n",
       "      <th>start_lng</th>\n",
       "      <th>end_lat</th>\n",
       "      <th>end_lng</th>\n",
       "      <th>member_casual</th>\n",
       "      <th>ride_length</th>\n",
       "      <th>day_of_week</th>\n",
       "    </tr>\n",
       "  </thead>\n",
       "  <tbody>\n",
       "    <tr>\n",
       "      <th>0</th>\n",
       "      <td>C1D650626C8C899A</td>\n",
       "      <td>electric_bike</td>\n",
       "      <td>2024-01-12 15:30:27</td>\n",
       "      <td>2024-01-12 15:37:59</td>\n",
       "      <td>41.903267</td>\n",
       "      <td>-87.634737</td>\n",
       "      <td>41.889177</td>\n",
       "      <td>-87.638506</td>\n",
       "      <td>member</td>\n",
       "      <td>0 days 00:07:32</td>\n",
       "      <td>Friday</td>\n",
       "    </tr>\n",
       "    <tr>\n",
       "      <th>1</th>\n",
       "      <td>EECD38BDB25BFCB0</td>\n",
       "      <td>electric_bike</td>\n",
       "      <td>2024-01-08 15:45:46</td>\n",
       "      <td>2024-01-08 15:52:59</td>\n",
       "      <td>41.902937</td>\n",
       "      <td>-87.634440</td>\n",
       "      <td>41.889177</td>\n",
       "      <td>-87.638506</td>\n",
       "      <td>member</td>\n",
       "      <td>0 days 00:07:13</td>\n",
       "      <td>Monday</td>\n",
       "    </tr>\n",
       "    <tr>\n",
       "      <th>2</th>\n",
       "      <td>F4A9CE78061F17F7</td>\n",
       "      <td>electric_bike</td>\n",
       "      <td>2024-01-27 12:27:19</td>\n",
       "      <td>2024-01-27 12:35:19</td>\n",
       "      <td>41.902951</td>\n",
       "      <td>-87.634470</td>\n",
       "      <td>41.889177</td>\n",
       "      <td>-87.638506</td>\n",
       "      <td>member</td>\n",
       "      <td>0 days 00:08:00</td>\n",
       "      <td>Saturday</td>\n",
       "    </tr>\n",
       "    <tr>\n",
       "      <th>3</th>\n",
       "      <td>0A0D9E15EE50B171</td>\n",
       "      <td>classic_bike</td>\n",
       "      <td>2024-01-29 16:26:17</td>\n",
       "      <td>2024-01-29 16:56:06</td>\n",
       "      <td>41.884295</td>\n",
       "      <td>-87.633963</td>\n",
       "      <td>41.921822</td>\n",
       "      <td>-87.644140</td>\n",
       "      <td>member</td>\n",
       "      <td>0 days 00:29:49</td>\n",
       "      <td>Monday</td>\n",
       "    </tr>\n",
       "    <tr>\n",
       "      <th>4</th>\n",
       "      <td>33FFC9805E3EFF9A</td>\n",
       "      <td>classic_bike</td>\n",
       "      <td>2024-01-31 05:43:23</td>\n",
       "      <td>2024-01-31 06:09:35</td>\n",
       "      <td>41.948797</td>\n",
       "      <td>-87.675278</td>\n",
       "      <td>41.889177</td>\n",
       "      <td>-87.638506</td>\n",
       "      <td>member</td>\n",
       "      <td>0 days 00:26:12</td>\n",
       "      <td>Wednesday</td>\n",
       "    </tr>\n",
       "  </tbody>\n",
       "</table>\n",
       "</div>"
      ],
      "text/plain": [
       "            ride_id  rideable_type          started_at            ended_at  \\\n",
       "0  C1D650626C8C899A  electric_bike 2024-01-12 15:30:27 2024-01-12 15:37:59   \n",
       "1  EECD38BDB25BFCB0  electric_bike 2024-01-08 15:45:46 2024-01-08 15:52:59   \n",
       "2  F4A9CE78061F17F7  electric_bike 2024-01-27 12:27:19 2024-01-27 12:35:19   \n",
       "3  0A0D9E15EE50B171   classic_bike 2024-01-29 16:26:17 2024-01-29 16:56:06   \n",
       "4  33FFC9805E3EFF9A   classic_bike 2024-01-31 05:43:23 2024-01-31 06:09:35   \n",
       "\n",
       "   start_lat  start_lng    end_lat    end_lng member_casual     ride_length  \\\n",
       "0  41.903267 -87.634737  41.889177 -87.638506        member 0 days 00:07:32   \n",
       "1  41.902937 -87.634440  41.889177 -87.638506        member 0 days 00:07:13   \n",
       "2  41.902951 -87.634470  41.889177 -87.638506        member 0 days 00:08:00   \n",
       "3  41.884295 -87.633963  41.921822 -87.644140        member 0 days 00:29:49   \n",
       "4  41.948797 -87.675278  41.889177 -87.638506        member 0 days 00:26:12   \n",
       "\n",
       "  day_of_week  \n",
       "0      Friday  \n",
       "1      Monday  \n",
       "2    Saturday  \n",
       "3      Monday  \n",
       "4   Wednesday  "
      ]
     },
     "execution_count": 198,
     "metadata": {},
     "output_type": "execute_result"
    }
   ],
   "source": [
    "# calculate day_of_week and add column to dataframe\n",
    "df['day_of_week'] = df['started_at'].dt.day_name()\n",
    "df.head()"
   ]
  },
  {
   "cell_type": "markdown",
   "id": "46494e7d",
   "metadata": {},
   "source": [
    "I've now added a 13th column called 'ride_length'. Next I will check that the values in each column make sense. Eg, checking the the values in 'member_casual' are only 'member' or 'casual'; checking that all values in 'ride_length' are positive values; etc."
   ]
  },
  {
   "cell_type": "code",
   "execution_count": 199,
   "id": "b983860a",
   "metadata": {},
   "outputs": [
    {
     "data": {
      "text/plain": [
       "(5675095, 11)"
      ]
     },
     "execution_count": 199,
     "metadata": {},
     "output_type": "execute_result"
    }
   ],
   "source": [
    "df.shape"
   ]
  },
  {
   "cell_type": "markdown",
   "id": "cc320df4",
   "metadata": {},
   "source": [
    "Column0: ride_id"
   ]
  },
  {
   "cell_type": "code",
   "execution_count": null,
   "id": "7306ad0c",
   "metadata": {},
   "outputs": [],
   "source": []
  },
  {
   "cell_type": "markdown",
   "id": "fdc8a657",
   "metadata": {},
   "source": [
    "Column1: 'rideable_type'"
   ]
  },
  {
   "cell_type": "code",
   "execution_count": 200,
   "id": "70979d6e",
   "metadata": {},
   "outputs": [
    {
     "name": "stdout",
     "output_type": "stream",
     "text": [
      "['electric_bike' 'classic_bike' 'electric_scooter']\n"
     ]
    }
   ],
   "source": [
    "# Get unique values in 'rideable_type' column\n",
    "unique_rideable_types = df['rideable_type'].unique()\n",
    "\n",
    "# Print the unique values\n",
    "print(unique_rideable_types)"
   ]
  },
  {
   "cell_type": "markdown",
   "id": "882e6a7c",
   "metadata": {},
   "source": [
    "Column4: 'start_lat'"
   ]
  },
  {
   "cell_type": "code",
   "execution_count": 201,
   "id": "d2ffd7c4",
   "metadata": {},
   "outputs": [
    {
     "name": "stdout",
     "output_type": "stream",
     "text": [
      "41.64\n",
      "42.07\n"
     ]
    }
   ],
   "source": [
    "# Find the minimum and maximum values in the 'start_lat' column\n",
    "min_start_lat = df['start_lat'].min()\n",
    "max_start_lat = df['start_lat'].max()\n",
    "\n",
    "print(min_start_lat)\n",
    "print(max_start_lat)"
   ]
  },
  {
   "cell_type": "markdown",
   "id": "9e74aa53",
   "metadata": {},
   "source": [
    "Column5: 'start_lng'"
   ]
  },
  {
   "cell_type": "code",
   "execution_count": 202,
   "id": "f59c4567",
   "metadata": {},
   "outputs": [
    {
     "name": "stdout",
     "output_type": "stream",
     "text": [
      "-87.91\n",
      "-87.52\n"
     ]
    }
   ],
   "source": [
    "# Find the minimum and maximum values in the 'start_lng' column\n",
    "min_start_lng = df['start_lng'].min()\n",
    "max_start_lng = df['start_lng'].max()\n",
    "\n",
    "print(min_start_lng)\n",
    "print(max_start_lng)"
   ]
  },
  {
   "cell_type": "markdown",
   "id": "09a276fb",
   "metadata": {},
   "source": [
    "Column6: 'end_lat'"
   ]
  },
  {
   "cell_type": "code",
   "execution_count": 203,
   "id": "9f1dacd6",
   "metadata": {},
   "outputs": [
    {
     "name": "stdout",
     "output_type": "stream",
     "text": [
      "16.06\n",
      "87.96\n"
     ]
    }
   ],
   "source": [
    "# Find the minimum and maximum values in the 'end_lat' column\n",
    "min_end_lat = df['end_lat'].min()\n",
    "max_end_lat = df['end_lat'].max()\n",
    "\n",
    "print(min_end_lat)\n",
    "print(max_end_lat)"
   ]
  },
  {
   "cell_type": "markdown",
   "id": "396b5692",
   "metadata": {},
   "source": [
    "Both min and max 'end_lat' look like an errors. Investigate."
   ]
  },
  {
   "cell_type": "code",
   "execution_count": 204,
   "id": "f4cda614",
   "metadata": {},
   "outputs": [
    {
     "name": "stdout",
     "output_type": "stream",
     "text": [
      "Number of 'end_lat' values below 40:00: 12\n",
      "% of rows with 'end_lat' values below 40.00: 2.1145020479833377e-06\n"
     ]
    }
   ],
   "source": [
    "# Count number of 'end_lat' values below 40.00\n",
    "count_lo_end_lat = (df['end_lat'] < 40.00).sum()\n",
    "perc_lo_end_lat = count_lo_end_lat/len(df)\n",
    "\n",
    "\n",
    "# Print the court\n",
    "print(f\"Number of 'end_lat' values below 40:00: {count_lo_end_lat}\")\n",
    "print(f\"% of rows with 'end_lat' values below 40.00: {perc_lo_end_lat}\")"
   ]
  },
  {
   "cell_type": "markdown",
   "id": "9413f77d",
   "metadata": {},
   "source": [
    "0.000002 % of the dataset has 'end_lat' value < 40.00. I will investigate these rows, but likely will drop."
   ]
  },
  {
   "cell_type": "code",
   "execution_count": 205,
   "id": "0ecff77f",
   "metadata": {},
   "outputs": [
    {
     "name": "stdout",
     "output_type": "stream",
     "text": [
      "                  ride_id  rideable_type              started_at  \\\n",
      "3160362  992C14C6CE573FD5  electric_bike 2024-08-19 15:50:59.229   \n",
      "3183654  11CDEC2D64D92CCD  electric_bike 2024-08-18 11:06:51.460   \n",
      "3255867  37B6F0FE3764406C  electric_bike 2024-08-10 07:33:20.129   \n",
      "3257100  CDB1A7C5C2E003B0  electric_bike 2024-08-25 10:41:26.389   \n",
      "3788741  6443AF0A50B2CE2B  electric_bike 2024-08-14 19:30:48.655   \n",
      "3794537  D82766169ED55B87  electric_bike 2024-08-25 10:37:36.353   \n",
      "3810382  B9D700B54FEC231D  electric_bike 2024-08-13 13:51:29.639   \n",
      "3846720  85437CD6FF21E97B  electric_bike 2024-08-21 18:13:56.409   \n",
      "3866602  008E882D718EDB54  electric_bike 2024-08-05 20:47:43.058   \n",
      "3882653  A35B93238902E7C3  electric_bike 2024-08-23 18:54:38.298   \n",
      "3927247  AC3B1B61AD56FB4D  electric_bike 2024-09-17 13:56:29.166   \n",
      "4747325  D259E9F6CAD8512D  electric_bike 2024-10-06 14:53:08.948   \n",
      "\n",
      "                       ended_at  start_lat  start_lng  end_lat  end_lng  \\\n",
      "3160362 2024-08-19 15:57:04.508  41.878119 -87.643948    30.02   -85.47   \n",
      "3183654 2024-08-18 11:16:22.419  41.902973 -87.631280    36.56   -91.42   \n",
      "3255867 2024-08-10 07:48:22.734  41.945529 -87.646439    36.00   -85.52   \n",
      "3257100 2024-08-25 11:05:26.662  41.880958 -87.616743    35.92   -82.94   \n",
      "3788741 2024-08-14 19:47:47.053  41.903119 -87.673935    31.74   -81.51   \n",
      "3794537 2024-08-25 10:54:31.733  41.890847 -87.618617    28.94   -79.02   \n",
      "3810382 2024-08-13 14:07:09.816  41.915520 -87.687022    16.06   -84.82   \n",
      "3846720 2024-08-21 18:50:54.231  41.880317 -87.635185    39.86   -90.66   \n",
      "3866602 2024-08-05 21:04:52.820  41.920000 -87.650000    38.94   -89.03   \n",
      "3882653 2024-08-23 19:04:50.732  41.900000 -87.630000    21.79   -92.62   \n",
      "3927247 2024-09-17 14:10:34.910  41.912616 -87.681391    32.53  -129.71   \n",
      "4747325 2024-10-06 15:21:08.101  41.860000 -87.610000    35.50   -89.36   \n",
      "\n",
      "        member_casual            ride_length day_of_week  \n",
      "3160362        member 0 days 00:06:05.279000      Monday  \n",
      "3183654        member 0 days 00:09:30.959000      Sunday  \n",
      "3255867        casual 0 days 00:15:02.605000    Saturday  \n",
      "3257100        casual 0 days 00:24:00.273000      Sunday  \n",
      "3788741        member 0 days 00:16:58.398000   Wednesday  \n",
      "3794537        casual 0 days 00:16:55.380000      Sunday  \n",
      "3810382        casual 0 days 00:15:40.177000     Tuesday  \n",
      "3846720        casual 0 days 00:36:57.822000   Wednesday  \n",
      "3866602        member 0 days 00:17:09.762000      Monday  \n",
      "3882653        member 0 days 00:10:12.434000      Friday  \n",
      "3927247        casual 0 days 00:14:05.744000     Tuesday  \n",
      "4747325        casual 0 days 00:27:59.153000      Sunday  \n"
     ]
    }
   ],
   "source": [
    "# Find the rows with 'end_lat' less than 40\n",
    "min_end_lat_outlier = df[df['end_lat'] < 40.00]\n",
    "\n",
    "# Print the rows\n",
    "print(min_end_lat_outlier)"
   ]
  },
  {
   "cell_type": "markdown",
   "id": "b5227b57",
   "metadata": {},
   "source": [
    "Plugged these ending location coordinates into Google maps and they are nowhere near Chicago. I will drop these 11 rows."
   ]
  },
  {
   "cell_type": "code",
   "execution_count": 206,
   "id": "c958e29f",
   "metadata": {},
   "outputs": [],
   "source": [
    "# Drop the row from 'df'\n",
    "df.drop(min_end_lat_outlier.index, inplace=True)"
   ]
  },
  {
   "cell_type": "code",
   "execution_count": 207,
   "id": "faa2d458",
   "metadata": {},
   "outputs": [
    {
     "data": {
      "text/plain": [
       "(5675083, 11)"
      ]
     },
     "execution_count": 207,
     "metadata": {},
     "output_type": "execute_result"
    }
   ],
   "source": [
    "df.shape"
   ]
  },
  {
   "cell_type": "code",
   "execution_count": 208,
   "id": "c277cada",
   "metadata": {},
   "outputs": [
    {
     "name": "stdout",
     "output_type": "stream",
     "text": [
      "Number of 'end_lat' values above 42.20: 20\n",
      "% of rows with 'end_lat' values above 42.20: 3.524177531852838e-06\n"
     ]
    }
   ],
   "source": [
    "# Count number of 'end_lat' values above 42.20\n",
    "count_hi_end_lat = (df['end_lat'] > 42.20).sum()\n",
    "perc_hi_end_lat = count_hi_end_lat/len(df)\n",
    "\n",
    "\n",
    "# Print the court\n",
    "print(f\"Number of 'end_lat' values above 42.20: {count_hi_end_lat}\")\n",
    "print(f\"% of rows with 'end_lat' values above 42.20: {perc_hi_end_lat}\")"
   ]
  },
  {
   "cell_type": "code",
   "execution_count": 209,
   "id": "22f94347",
   "metadata": {},
   "outputs": [
    {
     "name": "stdout",
     "output_type": "stream",
     "text": [
      "                  ride_id  rideable_type              started_at  \\\n",
      "2688680  BFB4AA1136202211  electric_bike 2024-07-27 17:17:18.671   \n",
      "3155546  9A77507269162955  electric_bike 2024-08-07 15:13:00.012   \n",
      "3195363  90D3D2DAB5B708A2  electric_bike 2024-08-09 08:56:06.836   \n",
      "3799390  3522F54E76DA57A6  electric_bike 2024-08-19 18:41:10.421   \n",
      "3799431  E3E458F9FDF1C9EA  electric_bike 2024-08-23 07:28:07.235   \n",
      "3805645  CE839B24D653FFC6  electric_bike 2024-08-17 05:59:19.748   \n",
      "3807507  E583A8FA09606F72  electric_bike 2024-08-18 15:36:16.929   \n",
      "3821197  B6C7F17118123505  electric_bike 2024-08-19 19:26:40.687   \n",
      "3833087  FF025E6C4E70DC6B  electric_bike 2024-08-22 09:23:07.602   \n",
      "3842794  DFCC318463834193  electric_bike 2024-08-08 13:03:38.221   \n",
      "3845008  B1C5E03980AE655C  electric_bike 2024-08-22 18:53:42.418   \n",
      "4059077  7FB19E57BF665068  electric_bike 2024-09-03 08:53:28.741   \n",
      "4535305  62DE8EEB7371193B  electric_bike 2024-09-04 18:54:23.501   \n",
      "4666510  5543B576F10B7772  electric_bike 2024-09-16 12:51:04.878   \n",
      "4689552  F1B71E6586A8C096  electric_bike 2024-09-06 18:10:11.747   \n",
      "5213507  C2B4540C064E36FF  electric_bike 2024-10-30 08:53:29.382   \n",
      "5217887  EBB7597AAD81EB01  electric_bike 2024-10-21 09:04:06.451   \n",
      "5220887  1AA4437887C67BD3  electric_bike 2024-10-15 09:04:42.482   \n",
      "5233248  F800C79DFF7E9180  electric_bike 2024-10-23 09:38:43.842   \n",
      "5332850  0766830F88211260  electric_bike 2024-10-10 22:42:33.028   \n",
      "\n",
      "                       ended_at  start_lat  start_lng  end_lat  end_lng  \\\n",
      "2688680 2024-07-27 18:23:12.359  41.850000 -87.630000    87.96  -144.05   \n",
      "3155546 2024-08-07 15:19:53.645  41.880000 -87.640000    42.53   -87.80   \n",
      "3195363 2024-08-09 09:04:35.257  41.897660 -87.623510    42.90   -87.29   \n",
      "3799390 2024-08-19 20:13:11.970  41.881032 -87.624084    43.31   -86.54   \n",
      "3799431 2024-08-23 07:43:18.491  41.926277 -87.630834    44.01   -83.01   \n",
      "3805645 2024-08-17 06:02:45.648  41.936497 -87.647539    42.76   -97.47   \n",
      "3807507 2024-08-18 15:55:19.799  41.902973 -87.631280    42.76   -97.46   \n",
      "3821197 2024-08-19 19:43:17.301  41.940000 -87.640000    46.16   -86.60   \n",
      "3833087 2024-08-22 09:42:32.346  41.930000 -87.710000    42.84   -90.88   \n",
      "3842794 2024-08-08 13:16:55.131  41.890028 -87.636618    42.32   -87.63   \n",
      "3845008 2024-08-22 19:16:28.627  41.920000 -87.700000    42.51   -87.50   \n",
      "4059077 2024-09-03 09:13:38.804  41.983593 -87.669154    42.26   -87.27   \n",
      "4535305 2024-09-04 19:02:39.439  41.902973 -87.631280    72.88     1.72   \n",
      "4666510 2024-09-16 12:58:32.401  41.860000 -87.620000    42.73   -85.89   \n",
      "4689552 2024-09-06 18:18:44.079  41.830000 -87.720000    42.64   -86.38   \n",
      "5213507 2024-10-30 08:59:41.197  41.884728 -87.619521    42.62   -94.27   \n",
      "5217887 2024-10-21 09:11:45.845  41.880000 -87.630000    42.36   -88.56   \n",
      "5220887 2024-10-15 09:36:56.452  41.925602 -87.653708    42.86   -89.12   \n",
      "5233248 2024-10-23 09:52:54.363  41.886835 -87.622320    83.14   152.53   \n",
      "5332850 2024-10-10 23:08:35.109  41.894877 -87.632326    43.93   -86.05   \n",
      "\n",
      "        member_casual            ride_length day_of_week  \n",
      "2688680        casual 0 days 01:05:53.688000    Saturday  \n",
      "3155546        member 0 days 00:06:53.633000   Wednesday  \n",
      "3195363        member 0 days 00:08:28.421000      Friday  \n",
      "3799390        casual 0 days 01:32:01.549000      Monday  \n",
      "3799431        member 0 days 00:15:11.256000      Friday  \n",
      "3805645        casual 0 days 00:03:25.900000    Saturday  \n",
      "3807507        casual 0 days 00:19:02.870000      Sunday  \n",
      "3821197        casual 0 days 00:16:36.614000      Monday  \n",
      "3833087        member 0 days 00:19:24.744000    Thursday  \n",
      "3842794        member 0 days 00:13:16.910000    Thursday  \n",
      "3845008        casual 0 days 00:22:46.209000    Thursday  \n",
      "4059077        member 0 days 00:20:10.063000     Tuesday  \n",
      "4535305        member 0 days 00:08:15.938000   Wednesday  \n",
      "4666510        member 0 days 00:07:27.523000      Monday  \n",
      "4689552        casual 0 days 00:08:32.332000      Friday  \n",
      "5213507        casual 0 days 00:06:11.815000   Wednesday  \n",
      "5217887        member 0 days 00:07:39.394000      Monday  \n",
      "5220887        member 0 days 00:32:13.970000     Tuesday  \n",
      "5233248        member 0 days 00:14:10.521000   Wednesday  \n",
      "5332850        member 0 days 00:26:02.081000    Thursday  \n"
     ]
    }
   ],
   "source": [
    "# Find the rows with 'end_lat' above than 42.20\n",
    "max_end_lat_outlier = df[df['end_lat'] > 42.20]\n",
    "\n",
    "# Print the rows\n",
    "print(max_end_lat_outlier)"
   ]
  },
  {
   "cell_type": "code",
   "execution_count": 210,
   "id": "95bccefd",
   "metadata": {},
   "outputs": [],
   "source": [
    "# Drop the row from 'df'\n",
    "df.drop(max_end_lat_outlier.index, inplace=True)"
   ]
  },
  {
   "cell_type": "code",
   "execution_count": 211,
   "id": "c3fdad2c",
   "metadata": {},
   "outputs": [
    {
     "data": {
      "text/plain": [
       "(5675063, 11)"
      ]
     },
     "execution_count": 211,
     "metadata": {},
     "output_type": "execute_result"
    }
   ],
   "source": [
    "df.shape"
   ]
  },
  {
   "cell_type": "markdown",
   "id": "6622c4bc",
   "metadata": {},
   "source": [
    "Interesting that all of these only have 2 decimal points... could investigate further."
   ]
  },
  {
   "cell_type": "markdown",
   "id": "cdb11be9",
   "metadata": {},
   "source": [
    "Pause. Perhaps need to do a bit more cleaning of 'end_lat'. This analysis should focus on Chicago riders. If there are start/end locations way outside of Chicago, these should be excluded. I will generate a histogram of all values in the 'end_lat' column."
   ]
  },
  {
   "cell_type": "code",
   "execution_count": 212,
   "id": "a53728f6",
   "metadata": {
    "scrolled": true
   },
   "outputs": [
    {
     "data": {
      "image/png": "[encoded data removed]",
      "text/plain": [
       "<Figure size 640x480 with 1 Axes>"
      ]
     },
     "metadata": {},
     "output_type": "display_data"
    }
   ],
   "source": [
    "# Create a histogram of all values in 'end_lat' column\n",
    "plt.hist(df['end_lat'], bins=50)\n",
    "\n",
    "# Set x-axis limits\n",
    "plt.xlim(41.10, 42.20)\n",
    "\n",
    "# Set title and labels\n",
    "plt.title(\"Distribution of values in 'end_lat' column\")\n",
    "plt.xlabel('end_lat')\n",
    "plt.ylabel('Frequency')\n",
    "\n",
    "# Show plot\n",
    "plt.show()"
   ]
  },
  {
   "cell_type": "code",
   "execution_count": 213,
   "id": "b16d0049",
   "metadata": {},
   "outputs": [
    {
     "data": {
      "image/png": "[encoded data removed]",
      "text/plain": [
       "<Figure size 640x480 with 1 Axes>"
      ]
     },
     "metadata": {},
     "output_type": "display_data"
    }
   ],
   "source": [
    "sns.boxplot(x=df['end_lat'])\n",
    "plt.xlabel('Latitude')\n",
    "plt.title('Box Plot of Latitude Coordinates')\n",
    "plt.show()"
   ]
  },
  {
   "cell_type": "code",
   "execution_count": 214,
   "id": "57c0d0b0",
   "metadata": {},
   "outputs": [
    {
     "name": "stderr",
     "output_type": "stream",
     "text": [
      "/opt/anaconda3/lib/python3.11/site-packages/seaborn/_oldcore.py:1119: FutureWarning: use_inf_as_na option is deprecated and will be removed in a future version. Convert inf values to NaN before operating instead.\n",
      "  with pd.option_context('mode.use_inf_as_na', True):\n"
     ]
    },
    {
     "data": {
      "image/png": "[encoded data removed]",
      "text/plain": [
       "<Figure size 640x480 with 1 Axes>"
      ]
     },
     "metadata": {},
     "output_type": "display_data"
    }
   ],
   "source": [
    "sns.kdeplot(data=df['end_lat']) \n",
    "\n",
    "# Set the x-axis limits\n",
    "plt.xlim(41.000, 42.200)\n",
    "\n",
    "plt.xlabel('Latitude')\n",
    "plt.ylabel('Density')\n",
    "plt.title('Density Plot of Latitude Coordinates')\n",
    "plt.show()"
   ]
  },
  {
   "cell_type": "markdown",
   "id": "a54e386b",
   "metadata": {},
   "source": [
    "Need to work on my visualizations, but moving on...\n",
    "\n",
    "I will drop rows with 'end_lat' above 42.20."
   ]
  },
  {
   "cell_type": "markdown",
   "id": "94b7cc14",
   "metadata": {},
   "source": [
    "Side quest"
   ]
  },
  {
   "cell_type": "code",
   "execution_count": 215,
   "id": "51ace5bc",
   "metadata": {},
   "outputs": [
    {
     "name": "stdout",
     "output_type": "stream",
     "text": [
      "Number of values in 'end_lat' with 6 or more decimal places: 4222793\n",
      "Percent of values in 'end_lat' with 6 or more decimal places: 74.40962329404978\n"
     ]
    }
   ],
   "source": [
    "def count_decimal_places(df, column_name):\n",
    "  \"\"\"\n",
    "  Counts the number of values in the specified column with 6 or more decimal places.\n",
    "\n",
    "  Args:\n",
    "    df: The pandas DataFrame.\n",
    "    column_name: The name of the column to check.\n",
    "\n",
    "  Returns:\n",
    "    The count of values with 6 or more decimal places.\n",
    "  \"\"\"\n",
    "\n",
    "  # Convert the column to strings\n",
    "  df['end_lat'] = df['end_lat'].astype(str)\n",
    "\n",
    "  # Count values with 6 or more decimal places\n",
    "  count = df['end_lat'].str.split('.').str[1].str.len().ge(6).sum()\n",
    "\n",
    "  return count\n",
    "\n",
    "# Example usage:\n",
    "# Assuming you have a DataFrame named 'df'\n",
    "\n",
    "count = count_decimal_places(df, 'end_lat')\n",
    "perc = count/len(df)*100\n",
    "print(f\"Number of values in 'end_lat' with 6 or more decimal places: {count}\")\n",
    "print(f\"Percent of values in 'end_lat' with 6 or more decimal places: {perc}\")"
   ]
  },
  {
   "cell_type": "code",
   "execution_count": 216,
   "id": "b713300c",
   "metadata": {},
   "outputs": [
    {
     "name": "stdout",
     "output_type": "stream",
     "text": [
      "Number of values in 'end_lat' with 6 or more decimal places: 4222793\n",
      "Percent of values in 'end_lat' with 6 or more decimal places: 74.40962329404978\n"
     ]
    }
   ],
   "source": [
    "def count_decimal_places_low(df, column_name):\n",
    "  \"\"\"\n",
    "  Counts the number of values in the specified column with 3 or less decimal places.\n",
    "\n",
    "  Args:\n",
    "    df: The pandas DataFrame.\n",
    "    column_name: The name of the column to check.\n",
    "\n",
    "  Returns:\n",
    "    The count of values with 6 or more decimal places.\n",
    "  \"\"\"\n",
    "\n",
    "  # Convert the column to strings\n",
    "  df['end_lat'] = df['end_lat'].astype(str)\n",
    "\n",
    "  # Count values with 6 or more decimal places\n",
    "  count = df['end_lat'].str.split('.').str[1].str.len().ge(6).sum()\n",
    "\n",
    "  return count\n",
    "\n",
    "# Example usage:\n",
    "# Assuming you have a DataFrame named 'df'\n",
    "\n",
    "count = count_decimal_places(df, 'end_lat')\n",
    "perc = count/len(df)*100\n",
    "print(f\"Number of values in 'end_lat' with 6 or more decimal places: {count}\")\n",
    "print(f\"Percent of values in 'end_lat' with 6 or more decimal places: {perc}\")"
   ]
  },
  {
   "cell_type": "code",
   "execution_count": 217,
   "id": "835ef1d5",
   "metadata": {},
   "outputs": [
    {
     "name": "stdout",
     "output_type": "stream",
     "text": [
      "Number of values in 'end_lat' with less than 3 decimal places: 1066744\n",
      "Percent of values in 'end_lat' with less than 3 decimal places: 18.797042429308714\n"
     ]
    }
   ],
   "source": [
    "def count_values_with_less_than_3_decimals(df, column_name):\n",
    "  \"\"\"\n",
    "  Counts the number of values in the specified column with less than 3 decimal places.\n",
    "\n",
    "  Args:\n",
    "    df: The pandas DataFrame.\n",
    "    column_name: The name of the column to check.\n",
    "\n",
    "  Returns:\n",
    "    The count of values with less than 3 decimal places.\n",
    "  \"\"\"\n",
    "\n",
    "  # Convert the column to strings\n",
    "  df['end_lat'] = df['end_lat'].astype(str)\n",
    "\n",
    "  # Count values with less than 3 decimal places\n",
    "  count = df['end_lat'].str.split('.').str[1].str.len().lt(3).sum()\n",
    "\n",
    "  return count\n",
    "\n",
    "# Example usage:\n",
    "# Assuming you have a DataFrame named 'df'\n",
    "\n",
    "count_low = count_values_with_less_than_3_decimals(df, 'end_lat')\n",
    "perc_low = count_low/len(df)*100\n",
    "\n",
    "print(f\"Number of values in 'end_lat' with less than 3 decimal places: {count_low}\")\n",
    "print(f\"Percent of values in 'end_lat' with less than 3 decimal places: {perc_low}\")"
   ]
  },
  {
   "cell_type": "markdown",
   "id": "72f4e9ce",
   "metadata": {},
   "source": [
    "Almost 19% of the dataset only has 2 decimal places in the 'end_lat' coordinate. This is too high to drop, so I wil lleave as is. "
   ]
  },
  {
   "cell_type": "markdown",
   "id": "e504f7fc",
   "metadata": {},
   "source": [
    "Convert 'end_lat' dtype back to object"
   ]
  },
  {
   "cell_type": "code",
   "execution_count": 218,
   "id": "85ddcffc",
   "metadata": {},
   "outputs": [
    {
     "name": "stdout",
     "output_type": "stream",
     "text": [
      "<class 'pandas.core.frame.DataFrame'>\n",
      "Index: 5675063 entries, 0 to 5682195\n",
      "Data columns (total 11 columns):\n",
      " #   Column         Dtype          \n",
      "---  ------         -----          \n",
      " 0   ride_id        object         \n",
      " 1   rideable_type  object         \n",
      " 2   started_at     datetime64[ns] \n",
      " 3   ended_at       datetime64[ns] \n",
      " 4   start_lat      float64        \n",
      " 5   start_lng      float64        \n",
      " 6   end_lat        object         \n",
      " 7   end_lng        float64        \n",
      " 8   member_casual  object         \n",
      " 9   ride_length    timedelta64[ns]\n",
      " 10  day_of_week    object         \n",
      "dtypes: datetime64[ns](2), float64(3), object(5), timedelta64[ns](1)\n",
      "memory usage: 519.6+ MB\n"
     ]
    }
   ],
   "source": [
    "df.info()"
   ]
  },
  {
   "cell_type": "code",
   "execution_count": 219,
   "id": "5a9ccb0e",
   "metadata": {},
   "outputs": [],
   "source": [
    "df['end_lat'] = df['end_lat'].astype('float64')"
   ]
  },
  {
   "cell_type": "code",
   "execution_count": 220,
   "id": "6769e41f",
   "metadata": {},
   "outputs": [
    {
     "name": "stdout",
     "output_type": "stream",
     "text": [
      "<class 'pandas.core.frame.DataFrame'>\n",
      "Index: 5675063 entries, 0 to 5682195\n",
      "Data columns (total 11 columns):\n",
      " #   Column         Dtype          \n",
      "---  ------         -----          \n",
      " 0   ride_id        object         \n",
      " 1   rideable_type  object         \n",
      " 2   started_at     datetime64[ns] \n",
      " 3   ended_at       datetime64[ns] \n",
      " 4   start_lat      float64        \n",
      " 5   start_lng      float64        \n",
      " 6   end_lat        float64        \n",
      " 7   end_lng        float64        \n",
      " 8   member_casual  object         \n",
      " 9   ride_length    timedelta64[ns]\n",
      " 10  day_of_week    object         \n",
      "dtypes: datetime64[ns](2), float64(4), object(4), timedelta64[ns](1)\n",
      "memory usage: 519.6+ MB\n"
     ]
    }
   ],
   "source": [
    "df.info()"
   ]
  },
  {
   "cell_type": "markdown",
   "id": "891924c8",
   "metadata": {},
   "source": [
    "Continuing on with validation!"
   ]
  },
  {
   "cell_type": "markdown",
   "id": "4ae3112f",
   "metadata": {},
   "source": [
    "Column7: 'end_lng'"
   ]
  },
  {
   "cell_type": "code",
   "execution_count": 221,
   "id": "7ea88b5f",
   "metadata": {},
   "outputs": [
    {
     "name": "stdout",
     "output_type": "stream",
     "text": [
      "-89.79\n",
      "-81.69\n"
     ]
    }
   ],
   "source": [
    "# Find the minimum and maximum values in the 'end_lat' column\n",
    "min_end_lng = df['end_lng'].min()\n",
    "max_end_lng = df['end_lng'].max()\n",
    "\n",
    "print(min_end_lng)\n",
    "print(max_end_lng)"
   ]
  },
  {
   "cell_type": "markdown",
   "id": "82c1b8ee",
   "metadata": {},
   "source": [
    "Count number of rows in 'end_lat' column with values outside of range -87.00 to -89.00"
   ]
  }
 ],
 "metadata": {
  "kernelspec": {
   "display_name": "Python 3 (ipykernel)",
   "language": "python",
   "name": "python3"
  },
  "language_info": {
   "codemirror_mode": {
    "name": "ipython",
    "version": 3
   },
   "file_extension": ".py",
   "mimetype": "text/x-python",
   "name": "python",
   "nbconvert_exporter": "python",
   "pygments_lexer": "ipython3",
   "version": "3.11.7"
  }
 },
 "nbformat": 4,
 "nbformat_minor": 5
}
