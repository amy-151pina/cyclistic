{
 "cells": [
  {
   "cell_type": "markdown",
   "id": "045e7bc6",
   "metadata": {},
   "source": [
    "### 3.1 Contents"
   ]
  },
  {
   "cell_type": "markdown",
   "id": "b445220f",
   "metadata": {},
   "source": [
    "### 3.2 Introduction"
   ]
  },
  {
   "cell_type": "markdown",
   "id": "b4b6ed41",
   "metadata": {},
   "source": [
    "### 3.3 Imports"
   ]
  },
  {
   "cell_type": "code",
   "execution_count": 1,
   "id": "3e2b3362",
   "metadata": {},
   "outputs": [],
   "source": [
    "import pandas as pd\n",
    "import numpy as np\n",
    "import os\n",
    "import matplotlib.pyplot as plt\n",
    "import seaborn as sns\n",
    "from sklearn.decomposition import PCA\n",
    "from sklearn.preprocessing import scale"
   ]
  },
  {
   "cell_type": "markdown",
   "id": "9a0bf3db",
   "metadata": {},
   "source": [
    "### 3.4 Load the data"
   ]
  },
  {
   "cell_type": "markdown",
   "id": "c3909658",
   "metadata": {},
   "source": [
    "#### 3.4.1 Cyclistic DataFrame - combined, clean"
   ]
  },
  {
   "cell_type": "code",
   "execution_count": 3,
   "id": "17e3a1d0",
   "metadata": {},
   "outputs": [],
   "source": [
    "data = pd.read_csv('df_cyclistic_clean.csv')"
   ]
  },
  {
   "cell_type": "code",
   "execution_count": 4,
   "id": "684f6cde",
   "metadata": {},
   "outputs": [
    {
     "name": "stdout",
     "output_type": "stream",
     "text": [
      "<class 'pandas.core.frame.DataFrame'>\n",
      "RangeIndex: 5675095 entries, 0 to 5675094\n",
      "Data columns (total 11 columns):\n",
      " #   Column         Dtype  \n",
      "---  ------         -----  \n",
      " 0   ride_id        object \n",
      " 1   rideable_type  object \n",
      " 2   started_at     object \n",
      " 3   ended_at       object \n",
      " 4   start_lat      float64\n",
      " 5   start_lng      float64\n",
      " 6   end_lat        float64\n",
      " 7   end_lng        float64\n",
      " 8   member_casual  object \n",
      " 9   ride_length    object \n",
      " 10  day_of_week    object \n",
      "dtypes: float64(4), object(7)\n",
      "memory usage: 476.3+ MB\n"
     ]
    }
   ],
   "source": [
    "#validate dtypes are correct\n",
    "data.info()"
   ]
  },
  {
   "cell_type": "code",
   "execution_count": 8,
   "id": "824baad9",
   "metadata": {},
   "outputs": [],
   "source": [
    "#dtype did not sustain through filesave. convert 'ride_length' to \n",
    "data['ride_length'] = pd.to_timedelta(data['ride_length'])"
   ]
  },
  {
   "cell_type": "code",
   "execution_count": 10,
   "id": "d8ab3339",
   "metadata": {},
   "outputs": [
    {
     "name": "stdout",
     "output_type": "stream",
     "text": [
      "<class 'pandas.core.frame.DataFrame'>\n",
      "RangeIndex: 5675095 entries, 0 to 5675094\n",
      "Data columns (total 11 columns):\n",
      " #   Column         Dtype          \n",
      "---  ------         -----          \n",
      " 0   ride_id        object         \n",
      " 1   rideable_type  object         \n",
      " 2   started_at     object         \n",
      " 3   ended_at       object         \n",
      " 4   start_lat      float64        \n",
      " 5   start_lng      float64        \n",
      " 6   end_lat        float64        \n",
      " 7   end_lng        float64        \n",
      " 8   member_casual  object         \n",
      " 9   ride_length    timedelta64[ns]\n",
      " 10  day_of_week    object         \n",
      "dtypes: float64(4), object(6), timedelta64[ns](1)\n",
      "memory usage: 476.3+ MB\n"
     ]
    }
   ],
   "source": [
    "data.info()"
   ]
  },
  {
   "cell_type": "code",
   "execution_count": 11,
   "id": "991326f5",
   "metadata": {},
   "outputs": [
    {
     "data": {
      "text/plain": [
       "Index(['ride_id', 'rideable_type', 'started_at', 'ended_at', 'start_lat',\n",
       "       'start_lng', 'end_lat', 'end_lng', 'member_casual', 'ride_length',\n",
       "       'day_of_week'],\n",
       "      dtype='object')"
      ]
     },
     "execution_count": 11,
     "metadata": {},
     "output_type": "execute_result"
    }
   ],
   "source": [
    "#validate columns are correct\n",
    "data.columns"
   ]
  },
  {
   "cell_type": "code",
   "execution_count": 12,
   "id": "c8ab3e87",
   "metadata": {},
   "outputs": [
    {
     "data": {
      "text/plain": [
       "(5675095, 11)"
      ]
     },
     "execution_count": 12,
     "metadata": {},
     "output_type": "execute_result"
    }
   ],
   "source": [
    "#validate shape is consistent\n",
    "data.shape"
   ]
  },
  {
   "cell_type": "code",
   "execution_count": 13,
   "id": "4245c34e",
   "metadata": {},
   "outputs": [
    {
     "data": {
      "text/html": [
       "<div>\n",
       "<style scoped>\n",
       "    .dataframe tbody tr th:only-of-type {\n",
       "        vertical-align: middle;\n",
       "    }\n",
       "\n",
       "    .dataframe tbody tr th {\n",
       "        vertical-align: top;\n",
       "    }\n",
       "\n",
       "    .dataframe thead th {\n",
       "        text-align: right;\n",
       "    }\n",
       "</style>\n",
       "<table border=\"1\" class=\"dataframe\">\n",
       "  <thead>\n",
       "    <tr style=\"text-align: right;\">\n",
       "      <th></th>\n",
       "      <th>ride_id</th>\n",
       "      <th>rideable_type</th>\n",
       "      <th>started_at</th>\n",
       "      <th>ended_at</th>\n",
       "      <th>start_lat</th>\n",
       "      <th>start_lng</th>\n",
       "      <th>end_lat</th>\n",
       "      <th>end_lng</th>\n",
       "      <th>member_casual</th>\n",
       "      <th>ride_length</th>\n",
       "      <th>day_of_week</th>\n",
       "    </tr>\n",
       "  </thead>\n",
       "  <tbody>\n",
       "    <tr>\n",
       "      <th>0</th>\n",
       "      <td>C1D650626C8C899A</td>\n",
       "      <td>electric_bike</td>\n",
       "      <td>2024-01-12 15:30:27</td>\n",
       "      <td>2024-01-12 15:37:59</td>\n",
       "      <td>41.903267</td>\n",
       "      <td>-87.634737</td>\n",
       "      <td>41.889177</td>\n",
       "      <td>-87.638506</td>\n",
       "      <td>member</td>\n",
       "      <td>0 days 00:07:32</td>\n",
       "      <td>Friday</td>\n",
       "    </tr>\n",
       "    <tr>\n",
       "      <th>1</th>\n",
       "      <td>EECD38BDB25BFCB0</td>\n",
       "      <td>electric_bike</td>\n",
       "      <td>2024-01-08 15:45:46</td>\n",
       "      <td>2024-01-08 15:52:59</td>\n",
       "      <td>41.902937</td>\n",
       "      <td>-87.634440</td>\n",
       "      <td>41.889177</td>\n",
       "      <td>-87.638506</td>\n",
       "      <td>member</td>\n",
       "      <td>0 days 00:07:13</td>\n",
       "      <td>Monday</td>\n",
       "    </tr>\n",
       "    <tr>\n",
       "      <th>2</th>\n",
       "      <td>F4A9CE78061F17F7</td>\n",
       "      <td>electric_bike</td>\n",
       "      <td>2024-01-27 12:27:19</td>\n",
       "      <td>2024-01-27 12:35:19</td>\n",
       "      <td>41.902951</td>\n",
       "      <td>-87.634470</td>\n",
       "      <td>41.889177</td>\n",
       "      <td>-87.638506</td>\n",
       "      <td>member</td>\n",
       "      <td>0 days 00:08:00</td>\n",
       "      <td>Saturday</td>\n",
       "    </tr>\n",
       "    <tr>\n",
       "      <th>3</th>\n",
       "      <td>0A0D9E15EE50B171</td>\n",
       "      <td>classic_bike</td>\n",
       "      <td>2024-01-29 16:26:17</td>\n",
       "      <td>2024-01-29 16:56:06</td>\n",
       "      <td>41.884295</td>\n",
       "      <td>-87.633963</td>\n",
       "      <td>41.921822</td>\n",
       "      <td>-87.644140</td>\n",
       "      <td>member</td>\n",
       "      <td>0 days 00:29:49</td>\n",
       "      <td>Monday</td>\n",
       "    </tr>\n",
       "    <tr>\n",
       "      <th>4</th>\n",
       "      <td>33FFC9805E3EFF9A</td>\n",
       "      <td>classic_bike</td>\n",
       "      <td>2024-01-31 05:43:23</td>\n",
       "      <td>2024-01-31 06:09:35</td>\n",
       "      <td>41.948797</td>\n",
       "      <td>-87.675278</td>\n",
       "      <td>41.889177</td>\n",
       "      <td>-87.638506</td>\n",
       "      <td>member</td>\n",
       "      <td>0 days 00:26:12</td>\n",
       "      <td>Wednesday</td>\n",
       "    </tr>\n",
       "  </tbody>\n",
       "</table>\n",
       "</div>"
      ],
      "text/plain": [
       "            ride_id  rideable_type           started_at             ended_at  \\\n",
       "0  C1D650626C8C899A  electric_bike  2024-01-12 15:30:27  2024-01-12 15:37:59   \n",
       "1  EECD38BDB25BFCB0  electric_bike  2024-01-08 15:45:46  2024-01-08 15:52:59   \n",
       "2  F4A9CE78061F17F7  electric_bike  2024-01-27 12:27:19  2024-01-27 12:35:19   \n",
       "3  0A0D9E15EE50B171   classic_bike  2024-01-29 16:26:17  2024-01-29 16:56:06   \n",
       "4  33FFC9805E3EFF9A   classic_bike  2024-01-31 05:43:23  2024-01-31 06:09:35   \n",
       "\n",
       "   start_lat  start_lng    end_lat    end_lng member_casual     ride_length  \\\n",
       "0  41.903267 -87.634737  41.889177 -87.638506        member 0 days 00:07:32   \n",
       "1  41.902937 -87.634440  41.889177 -87.638506        member 0 days 00:07:13   \n",
       "2  41.902951 -87.634470  41.889177 -87.638506        member 0 days 00:08:00   \n",
       "3  41.884295 -87.633963  41.921822 -87.644140        member 0 days 00:29:49   \n",
       "4  41.948797 -87.675278  41.889177 -87.638506        member 0 days 00:26:12   \n",
       "\n",
       "  day_of_week  \n",
       "0      Friday  \n",
       "1      Monday  \n",
       "2    Saturday  \n",
       "3      Monday  \n",
       "4   Wednesday  "
      ]
     },
     "execution_count": 13,
     "metadata": {},
     "output_type": "execute_result"
    }
   ],
   "source": [
    "# check out first 5 rows \n",
    "data.head()"
   ]
  },
  {
   "cell_type": "markdown",
   "id": "1b16b83e",
   "metadata": {},
   "source": [
    "### 3.5 Explore the Data"
   ]
  },
  {
   "cell_type": "markdown",
   "id": "280a7d46",
   "metadata": {},
   "source": [
    "### 3.5.1 create sample set to do EDA calculations on"
   ]
  },
  {
   "cell_type": "code",
   "execution_count": 14,
   "id": "98361525",
   "metadata": {},
   "outputs": [
    {
     "data": {
      "text/html": [
       "<div>\n",
       "<style scoped>\n",
       "    .dataframe tbody tr th:only-of-type {\n",
       "        vertical-align: middle;\n",
       "    }\n",
       "\n",
       "    .dataframe tbody tr th {\n",
       "        vertical-align: top;\n",
       "    }\n",
       "\n",
       "    .dataframe thead th {\n",
       "        text-align: right;\n",
       "    }\n",
       "</style>\n",
       "<table border=\"1\" class=\"dataframe\">\n",
       "  <thead>\n",
       "    <tr style=\"text-align: right;\">\n",
       "      <th></th>\n",
       "      <th>start_lat</th>\n",
       "      <th>start_lng</th>\n",
       "      <th>end_lat</th>\n",
       "      <th>end_lng</th>\n",
       "      <th>ride_length</th>\n",
       "    </tr>\n",
       "  </thead>\n",
       "  <tbody>\n",
       "    <tr>\n",
       "      <th>count</th>\n",
       "      <td>5.675095e+06</td>\n",
       "      <td>5.675095e+06</td>\n",
       "      <td>5.675095e+06</td>\n",
       "      <td>5.675095e+06</td>\n",
       "      <td>5675095</td>\n",
       "    </tr>\n",
       "    <tr>\n",
       "      <th>mean</th>\n",
       "      <td>4.190229e+01</td>\n",
       "      <td>-8.764621e+01</td>\n",
       "      <td>4.190267e+01</td>\n",
       "      <td>-8.764642e+01</td>\n",
       "      <td>0 days 00:15:37.154399652</td>\n",
       "    </tr>\n",
       "    <tr>\n",
       "      <th>std</th>\n",
       "      <td>4.476176e-02</td>\n",
       "      <td>2.749779e-02</td>\n",
       "      <td>5.631905e-02</td>\n",
       "      <td>1.153537e-01</td>\n",
       "      <td>0 days 00:33:02.265702909</td>\n",
       "    </tr>\n",
       "    <tr>\n",
       "      <th>min</th>\n",
       "      <td>4.164000e+01</td>\n",
       "      <td>-8.791000e+01</td>\n",
       "      <td>1.606000e+01</td>\n",
       "      <td>-1.440500e+02</td>\n",
       "      <td>-2 days +02:11:41</td>\n",
       "    </tr>\n",
       "    <tr>\n",
       "      <th>25%</th>\n",
       "      <td>4.188096e+01</td>\n",
       "      <td>-8.766000e+01</td>\n",
       "      <td>4.188096e+01</td>\n",
       "      <td>-8.766000e+01</td>\n",
       "      <td>0 days 00:05:35</td>\n",
       "    </tr>\n",
       "    <tr>\n",
       "      <th>50%</th>\n",
       "      <td>4.189745e+01</td>\n",
       "      <td>-8.764182e+01</td>\n",
       "      <td>4.189776e+01</td>\n",
       "      <td>-8.764288e+01</td>\n",
       "      <td>0 days 00:09:47.348000</td>\n",
       "    </tr>\n",
       "    <tr>\n",
       "      <th>75%</th>\n",
       "      <td>4.193000e+01</td>\n",
       "      <td>-8.762943e+01</td>\n",
       "      <td>4.193000e+01</td>\n",
       "      <td>-8.762952e+01</td>\n",
       "      <td>0 days 00:17:22.361500</td>\n",
       "    </tr>\n",
       "    <tr>\n",
       "      <th>max</th>\n",
       "      <td>4.207000e+01</td>\n",
       "      <td>-8.752000e+01</td>\n",
       "      <td>8.796000e+01</td>\n",
       "      <td>1.525300e+02</td>\n",
       "      <td>1 days 01:09:22</td>\n",
       "    </tr>\n",
       "  </tbody>\n",
       "</table>\n",
       "</div>"
      ],
      "text/plain": [
       "          start_lat     start_lng       end_lat       end_lng  \\\n",
       "count  5.675095e+06  5.675095e+06  5.675095e+06  5.675095e+06   \n",
       "mean   4.190229e+01 -8.764621e+01  4.190267e+01 -8.764642e+01   \n",
       "std    4.476176e-02  2.749779e-02  5.631905e-02  1.153537e-01   \n",
       "min    4.164000e+01 -8.791000e+01  1.606000e+01 -1.440500e+02   \n",
       "25%    4.188096e+01 -8.766000e+01  4.188096e+01 -8.766000e+01   \n",
       "50%    4.189745e+01 -8.764182e+01  4.189776e+01 -8.764288e+01   \n",
       "75%    4.193000e+01 -8.762943e+01  4.193000e+01 -8.762952e+01   \n",
       "max    4.207000e+01 -8.752000e+01  8.796000e+01  1.525300e+02   \n",
       "\n",
       "                     ride_length  \n",
       "count                    5675095  \n",
       "mean   0 days 00:15:37.154399652  \n",
       "std    0 days 00:33:02.265702909  \n",
       "min            -2 days +02:11:41  \n",
       "25%              0 days 00:05:35  \n",
       "50%       0 days 00:09:47.348000  \n",
       "75%       0 days 00:17:22.361500  \n",
       "max              1 days 01:09:22  "
      ]
     },
     "execution_count": 14,
     "metadata": {},
     "output_type": "execute_result"
    }
   ],
   "source": [
    "data.describe()"
   ]
  },
  {
   "cell_type": "markdown",
   "id": "84726145",
   "metadata": {},
   "source": [
    "If dataframe is too large know that you can sample (ended up not being necessary here)"
   ]
  },
  {
   "cell_type": "code",
   "execution_count": 20,
   "id": "eaff37a9",
   "metadata": {},
   "outputs": [],
   "source": [
    "# creating sample set (did not end up using)\n",
    "# sample = data.sample(frac=0.1)  # Sample 10% of the data\n",
    "# sample.describe()"
   ]
  },
  {
   "cell_type": "markdown",
   "id": "b14a5b42",
   "metadata": {},
   "source": [
    "### 3.5.2 Calculations to better understand data\n",
    "#### mean ride_length, max ride_length, mode of day of week"
   ]
  },
  {
   "cell_type": "markdown",
   "id": "62db7c21",
   "metadata": {},
   "source": [
    "Open your spreadsheet application, then complete the following steps:\n",
    "1. Where relevant, make columns consistent and combine them into a single worksheet.\n",
    "2. Clean and transform your data to prepare for analysis.\n",
    "3. Conduct descriptive analysis.\n",
    "4. Run a few calculations in one file to get a better sense of the data layout. Options:\n",
    "    ● Calculate the mean of ride_length\n",
    "    ● Calculate the max ride_length\n",
    "    ● Calculate the mode of day_of_week\n",
    "5. Create a pivot table to quickly calculate and visualize the data. Options:\n",
    "    ● Calculate the average ride_length for members and casual riders. Try rows = member_casual; Values = Average of\n",
    "    ride_length.\n",
    "    ● Calculate the average ride_length for users by day_of_week. Try columns = day_of_week; Rows = member_casual;\n",
    "    Values = Average of ride_length.\n",
    "    ● Calculate the number of rides for users by day_of_week by adding Count of trip_id to Values.\n",
    "6. Open another file and perform the same descriptive analysis steps. Explore different seasons to make some initial\n",
    "observations.\n",
    "7. Once you have spent some time working with the individual spreadsheets, merge them into a full-year view. Do this with the\n",
    "tool you have chosen to use to perform your"
   ]
  },
  {
   "cell_type": "markdown",
   "id": "f6c6ed0f",
   "metadata": {},
   "source": [
    "Follow these steps for using R\n",
    "Open R Studio and use this script to complete the following steps:\n",
    "1. Import your data.\n",
    "2. Make columns consistent and merge them into a single dataframe.\n",
    "3. Clean up and add data to prepare for analysis.\n",
    "4. Conduct descriptive analysis.\n",
    "5. Export a summary file for further analysis."
   ]
  },
  {
   "cell_type": "code",
   "execution_count": 15,
   "id": "dcd363b0",
   "metadata": {},
   "outputs": [
    {
     "name": "stdout",
     "output_type": "stream",
     "text": [
      "Mean ride length: 0 days 00:15:37.154399652\n"
     ]
    }
   ],
   "source": [
    "mean_ride_length = data['ride_length'].mean()\n",
    "print(f\"Mean ride length: {mean_ride_length}\")"
   ]
  },
  {
   "cell_type": "code",
   "execution_count": 16,
   "id": "f1cb7fe5",
   "metadata": {},
   "outputs": [
    {
     "name": "stdout",
     "output_type": "stream",
     "text": [
      "Max ride length: 1 days 01:09:22\n"
     ]
    }
   ],
   "source": [
    "max_ride_length = data['ride_length'].max()\n",
    "print(f\"Max ride length: {max_ride_length}\")"
   ]
  },
  {
   "cell_type": "code",
   "execution_count": 17,
   "id": "a789d5ac",
   "metadata": {},
   "outputs": [
    {
     "name": "stdout",
     "output_type": "stream",
     "text": [
      "Min ride length: -2 days +02:11:41\n"
     ]
    }
   ],
   "source": [
    "min_ride_length = data['ride_length'].min()\n",
    "print(f\"Min ride length: {min_ride_length}\")"
   ]
  },
  {
   "cell_type": "markdown",
   "id": "e3b5bc85",
   "metadata": {},
   "source": [
    "'ride_length' values should be absolute values (not negative). count negative values, investigate and convert values to absolute values"
   ]
  },
  {
   "cell_type": "code",
   "execution_count": 26,
   "id": "6f150049",
   "metadata": {},
   "outputs": [
    {
     "name": "stdout",
     "output_type": "stream",
     "text": [
      "227\n"
     ]
    }
   ],
   "source": [
    "# count number of negative values in 'ride_length'\n",
    "\n",
    "negative_ride_length_count = (data['ride_length'] < pd.Timedelta(0)).sum()\n",
    "print(negative_ride_length_count)"
   ]
  },
  {
   "cell_type": "code",
   "execution_count": 37,
   "id": "65cf328f",
   "metadata": {},
   "outputs": [],
   "source": [
    "# create dataframe of rows with negative values in 'ride_length' column\n",
    "negative_ride_length_df = data[data['ride_length'] < pd.Timedelta(0)]"
   ]
  },
  {
   "cell_type": "code",
   "execution_count": 38,
   "id": "12936726",
   "metadata": {},
   "outputs": [
    {
     "name": "stdout",
     "output_type": "stream",
     "text": [
      "                  ride_id               started_at                 ended_at  \\\n",
      "19682    3178F8568B02A678      2024-01-10 07:26:59      2024-01-10 07:26:58   \n",
      "87139    15792904345CE6AE      2024-01-08 08:21:34      2024-01-08 08:21:33   \n",
      "90511    7C2B9266971D5862      2024-01-21 14:57:56      2024-01-21 14:21:04   \n",
      "90598    3ADCE21FEE848DAC      2024-01-18 09:59:36      2024-01-18 09:19:38   \n",
      "94521    D688B0ED24D11C65      2024-01-21 17:22:48      2024-01-21 16:44:58   \n",
      "...                   ...                      ...                      ...   \n",
      "5643847  3A587733462DA2C3  2024-11-03 01:57:49.758  2024-11-03 01:17:29.247   \n",
      "5649768  4BD1F0EE07E79421  2024-11-03 01:51:30.818  2024-11-03 01:16:39.875   \n",
      "5656455  C497066FD1D05EEE  2024-11-03 01:58:02.303  2024-11-03 01:03:32.261   \n",
      "5656670  6D8CC446C1251515  2024-11-03 01:52:30.180  2024-11-03 01:06:44.950   \n",
      "5673682  E8F98270528A59CC  2024-11-03 01:54:55.644  2024-11-03 01:03:12.879   \n",
      "\n",
      "         start_lat  start_lng    end_lat    end_lng member_casual  \\\n",
      "19682    41.967088 -87.667291  41.967088 -87.667291        member   \n",
      "87139    41.903168 -87.673814  41.900000 -87.670000        member   \n",
      "90511    41.799535 -87.586439  41.810000 -87.600000        member   \n",
      "90598    41.794279 -87.601417  41.800000 -87.600000        member   \n",
      "94521    41.794219 -87.601477  41.800000 -87.590000        member   \n",
      "...            ...        ...        ...        ...           ...   \n",
      "5643847  41.898969 -87.629912  41.950000 -87.670000        casual   \n",
      "5649768  41.929546 -87.643118  41.961080 -87.735690        casual   \n",
      "5656455  41.910000 -87.640000  41.902973 -87.631280        casual   \n",
      "5656670  41.907066 -87.667252  41.854967 -87.675700        casual   \n",
      "5673682  41.880000 -87.640000  41.897380 -87.634420        member   \n",
      "\n",
      "                     ride_length day_of_week  \n",
      "19682          -1 days +23:59:59   Wednesday  \n",
      "87139          -1 days +23:59:59      Monday  \n",
      "90511          -1 days +23:23:08      Sunday  \n",
      "90598          -1 days +23:20:02    Thursday  \n",
      "94521          -1 days +23:22:10      Sunday  \n",
      "...                          ...         ...  \n",
      "5643847 -1 days +23:19:39.489000      Sunday  \n",
      "5649768 -1 days +23:25:09.057000      Sunday  \n",
      "5656455 -1 days +23:05:29.958000      Sunday  \n",
      "5656670 -1 days +23:14:14.770000      Sunday  \n",
      "5673682 -1 days +23:08:17.235000      Sunday  \n",
      "\n",
      "[227 rows x 10 columns]\n"
     ]
    }
   ],
   "source": [
    "# show negative_ride_length_df (formatted for easier viewing)\n",
    "selected_columns = [0, 2, 3, 4, 5, 6, 7, 8, 9, 10]\n",
    "print(negative_ride_length_df.iloc[:, selected_columns])"
   ]
  },
  {
   "cell_type": "code",
   "execution_count": 41,
   "id": "19f065a8",
   "metadata": {},
   "outputs": [
    {
     "name": "stdout",
     "output_type": "stream",
     "text": [
      "% of data with negative values in 'ride_length' column: 3.999933040768481e-05\n"
     ]
    }
   ],
   "source": [
    "percent_negative_ride_length = len(negative_ride_length_df)/len(data)\n",
    "print(f\"% of data with negative values in 'ride_length' column: {percent_negative_ride_length}\")"
   ]
  },
  {
   "cell_type": "markdown",
   "id": "8c720a2d",
   "metadata": {},
   "source": [
    "I've identified that there are 227 rows with negative values in ride_length column. They do not have any obvious patterns. I have 3 options for error handling:\n",
    "\n",
    "a) remove rows\n",
    "\n",
    "b) correct timestamps\n",
    "\n",
    "c) flag rows as invalid\n",
    "\n",
    "For this project I am choosing to remove the rows. \n",
    "\n",
    "My first thought was that these negative values were due to the rides starting around midnight and going into the next day. However. because I did the calculation with datetime dtype this should not be an issue. \n",
    "\n",
    "I then thought that the started_at and ended_at entries, could have been switched, but due to the nature of this being a case study, I am not able to confirm this. I don't want to imput incorrect data. I'm not entirely sure if this is the case and if so, what does that mean for the started_at/ended_at stations? Should they also be switched.\n",
    "\n",
    "These 227 rows make up 0.00004% of the dataset, so I'm deciding to simply remove the rows."
   ]
  },
  {
   "cell_type": "code",
   "execution_count": 47,
   "id": "455f799b",
   "metadata": {},
   "outputs": [],
   "source": [
    "# remove rows where 'started_at' is after 'ended_at'\n",
    "data = data[data['started_at'] <= data['ended_at']]"
   ]
  },
  {
   "cell_type": "code",
   "execution_count": 48,
   "id": "73f9c792",
   "metadata": {},
   "outputs": [
    {
     "name": "stdout",
     "output_type": "stream",
     "text": [
      "5674868\n"
     ]
    }
   ],
   "source": [
    "# check new dataframe (previously 5675095 entries)\n",
    "print(len(data))"
   ]
  },
  {
   "cell_type": "code",
   "execution_count": 52,
   "id": "7f653064",
   "metadata": {},
   "outputs": [
    {
     "name": "stdout",
     "output_type": "stream",
     "text": [
      "227\n"
     ]
    }
   ],
   "source": [
    "print(5675095 - len(data))"
   ]
  },
  {
   "cell_type": "code",
   "execution_count": 49,
   "id": "07a4d6ff",
   "metadata": {},
   "outputs": [
    {
     "name": "stdout",
     "output_type": "stream",
     "text": [
      "<class 'pandas.core.frame.DataFrame'>\n",
      "Index: 5674868 entries, 0 to 5675094\n",
      "Data columns (total 11 columns):\n",
      " #   Column         Dtype          \n",
      "---  ------         -----          \n",
      " 0   ride_id        object         \n",
      " 1   rideable_type  object         \n",
      " 2   started_at     object         \n",
      " 3   ended_at       object         \n",
      " 4   start_lat      float64        \n",
      " 5   start_lng      float64        \n",
      " 6   end_lat        float64        \n",
      " 7   end_lng        float64        \n",
      " 8   member_casual  object         \n",
      " 9   ride_length    timedelta64[ns]\n",
      " 10  day_of_week    object         \n",
      "dtypes: float64(4), object(6), timedelta64[ns](1)\n",
      "memory usage: 519.5+ MB\n"
     ]
    }
   ],
   "source": [
    "data.info()"
   ]
  },
  {
   "cell_type": "code",
   "execution_count": 54,
   "id": "3ba3ed1f",
   "metadata": {},
   "outputs": [
    {
     "data": {
      "text/html": [
       "<div>\n",
       "<style scoped>\n",
       "    .dataframe tbody tr th:only-of-type {\n",
       "        vertical-align: middle;\n",
       "    }\n",
       "\n",
       "    .dataframe tbody tr th {\n",
       "        vertical-align: top;\n",
       "    }\n",
       "\n",
       "    .dataframe thead th {\n",
       "        text-align: right;\n",
       "    }\n",
       "</style>\n",
       "<table border=\"1\" class=\"dataframe\">\n",
       "  <thead>\n",
       "    <tr style=\"text-align: right;\">\n",
       "      <th></th>\n",
       "      <th>start_lat</th>\n",
       "      <th>start_lng</th>\n",
       "      <th>end_lat</th>\n",
       "      <th>end_lng</th>\n",
       "      <th>ride_length</th>\n",
       "    </tr>\n",
       "  </thead>\n",
       "  <tbody>\n",
       "    <tr>\n",
       "      <th>count</th>\n",
       "      <td>5.674868e+06</td>\n",
       "      <td>5.674868e+06</td>\n",
       "      <td>5.674868e+06</td>\n",
       "      <td>5.674868e+06</td>\n",
       "      <td>5674868</td>\n",
       "    </tr>\n",
       "    <tr>\n",
       "      <th>mean</th>\n",
       "      <td>4.190228e+01</td>\n",
       "      <td>-8.764621e+01</td>\n",
       "      <td>4.190267e+01</td>\n",
       "      <td>-8.764642e+01</td>\n",
       "      <td>0 days 00:15:37.277931443</td>\n",
       "    </tr>\n",
       "    <tr>\n",
       "      <th>std</th>\n",
       "      <td>4.476135e-02</td>\n",
       "      <td>2.749757e-02</td>\n",
       "      <td>5.631910e-02</td>\n",
       "      <td>1.153557e-01</td>\n",
       "      <td>0 days 00:33:00.744531268</td>\n",
       "    </tr>\n",
       "    <tr>\n",
       "      <th>min</th>\n",
       "      <td>4.164000e+01</td>\n",
       "      <td>-8.791000e+01</td>\n",
       "      <td>1.606000e+01</td>\n",
       "      <td>-1.440500e+02</td>\n",
       "      <td>0 days 00:00:00</td>\n",
       "    </tr>\n",
       "    <tr>\n",
       "      <th>25%</th>\n",
       "      <td>4.188096e+01</td>\n",
       "      <td>-8.766000e+01</td>\n",
       "      <td>4.188096e+01</td>\n",
       "      <td>-8.766000e+01</td>\n",
       "      <td>0 days 00:05:35</td>\n",
       "    </tr>\n",
       "    <tr>\n",
       "      <th>50%</th>\n",
       "      <td>4.189745e+01</td>\n",
       "      <td>-8.764182e+01</td>\n",
       "      <td>4.189776e+01</td>\n",
       "      <td>-8.764288e+01</td>\n",
       "      <td>0 days 00:09:47.377000</td>\n",
       "    </tr>\n",
       "    <tr>\n",
       "      <th>75%</th>\n",
       "      <td>4.193000e+01</td>\n",
       "      <td>-8.762943e+01</td>\n",
       "      <td>4.193000e+01</td>\n",
       "      <td>-8.762952e+01</td>\n",
       "      <td>0 days 00:17:22.408500</td>\n",
       "    </tr>\n",
       "    <tr>\n",
       "      <th>max</th>\n",
       "      <td>4.207000e+01</td>\n",
       "      <td>-8.752000e+01</td>\n",
       "      <td>8.796000e+01</td>\n",
       "      <td>1.525300e+02</td>\n",
       "      <td>1 days 01:09:22</td>\n",
       "    </tr>\n",
       "  </tbody>\n",
       "</table>\n",
       "</div>"
      ],
      "text/plain": [
       "          start_lat     start_lng       end_lat       end_lng  \\\n",
       "count  5.674868e+06  5.674868e+06  5.674868e+06  5.674868e+06   \n",
       "mean   4.190228e+01 -8.764621e+01  4.190267e+01 -8.764642e+01   \n",
       "std    4.476135e-02  2.749757e-02  5.631910e-02  1.153557e-01   \n",
       "min    4.164000e+01 -8.791000e+01  1.606000e+01 -1.440500e+02   \n",
       "25%    4.188096e+01 -8.766000e+01  4.188096e+01 -8.766000e+01   \n",
       "50%    4.189745e+01 -8.764182e+01  4.189776e+01 -8.764288e+01   \n",
       "75%    4.193000e+01 -8.762943e+01  4.193000e+01 -8.762952e+01   \n",
       "max    4.207000e+01 -8.752000e+01  8.796000e+01  1.525300e+02   \n",
       "\n",
       "                     ride_length  \n",
       "count                    5674868  \n",
       "mean   0 days 00:15:37.277931443  \n",
       "std    0 days 00:33:00.744531268  \n",
       "min              0 days 00:00:00  \n",
       "25%              0 days 00:05:35  \n",
       "50%       0 days 00:09:47.377000  \n",
       "75%       0 days 00:17:22.408500  \n",
       "max              1 days 01:09:22  "
      ]
     },
     "execution_count": 54,
     "metadata": {},
     "output_type": "execute_result"
    }
   ],
   "source": [
    "data.describe()"
   ]
  },
  {
   "cell_type": "code",
   "execution_count": 53,
   "id": "1543aea8",
   "metadata": {},
   "outputs": [
    {
     "name": "stdout",
     "output_type": "stream",
     "text": [
      "Mode ride length: 0    Saturday\n",
      "Name: day_of_week, dtype: object\n"
     ]
    }
   ],
   "source": [
    "mode_ride_length = data['day_of_week'].mode()\n",
    "print(f\"Mode ride length: {mode_ride_length}\")"
   ]
  },
  {
   "cell_type": "markdown",
   "id": "3ad6a92f",
   "metadata": {},
   "source": [
    "### 3.5.3 Calculations by rider type"
   ]
  },
  {
   "cell_type": "markdown",
   "id": "a3c3416d",
   "metadata": {},
   "source": [
    "#### 3.5.3.1 average ride length by rider type"
   ]
  },
  {
   "cell_type": "code",
   "execution_count": 57,
   "id": "085fa734",
   "metadata": {},
   "outputs": [],
   "source": [
    "# calculate average 'ride_length' for each rider type\n",
    "avg_ride_length_by_rider_type = data.groupby('member_casual')['ride_length'].mean() "
   ]
  },
  {
   "cell_type": "code",
   "execution_count": 58,
   "id": "9badd91d",
   "metadata": {},
   "outputs": [
    {
     "name": "stdout",
     "output_type": "stream",
     "text": [
      "Average Ride Length by Member Type:\n",
      "member_casual\n",
      "casual   0 days 00:21:14.557806662\n",
      "member   0 days 00:12:18.036518574\n",
      "Name: ride_length, dtype: timedelta64[ns]\n"
     ]
    }
   ],
   "source": [
    "# print results\n",
    "print(\"Average Ride Length by Member Type:\")\n",
    "print(avg_ride_length_by_rider_type)"
   ]
  },
  {
   "cell_type": "markdown",
   "id": "385012fc",
   "metadata": {},
   "source": [
    "Members average ride length is roughly half the time of a casual rider. Members avg ride length is ~12 min. Casual riders avg ride length is ~21 min. "
   ]
  },
  {
   "cell_type": "code",
   "execution_count": 64,
   "id": "db4088a4",
   "metadata": {},
   "outputs": [],
   "source": [
    "# calculate avg ride_length by day_of_week\n",
    "avg_ride_length_by_day = data.groupby(['day_of_week', 'member_casual'])['ride_length'].mean()"
   ]
  },
  {
   "cell_type": "code",
   "execution_count": 69,
   "id": "5cfeaef5",
   "metadata": {},
   "outputs": [],
   "source": [
    "# pivot the data for easier readability\n",
    "avg_ride_length_table = avg_ride_length_by_day.unstack(level='member_casual')"
   ]
  },
  {
   "cell_type": "code",
   "execution_count": 70,
   "id": "ccf4245c",
   "metadata": {},
   "outputs": [
    {
     "name": "stdout",
     "output_type": "stream",
     "text": [
      "Average ride length by day of week for each member type:\n",
      "member_casual                    casual                    member\n",
      "day_of_week                                                      \n",
      "Friday        0 days 00:20:32.172135869 0 days 00:11:58.961497760\n",
      "Monday        0 days 00:20:36.635393713 0 days 00:11:45.188644547\n",
      "Saturday      0 days 00:24:02.983070771 0 days 00:13:38.973748322\n",
      "Sunday        0 days 00:24:31.118988985 0 days 00:13:40.860195310\n",
      "Thursday      0 days 00:18:27.486079861 0 days 00:11:47.282485723\n",
      "Tuesday       0 days 00:18:19.265714665 0 days 00:11:46.751105387\n",
      "Wednesday     0 days 00:18:45.350695445 0 days 00:12:00.460125607\n"
     ]
    }
   ],
   "source": [
    "# print results\n",
    "print(\"Average ride length by day of week for each member type:\")\n",
    "print(avg_ride_length_table)"
   ]
  },
  {
   "cell_type": "markdown",
   "id": "2c215252",
   "metadata": {},
   "source": [
    "Members average ride length is fairly consistent, just under 12min with slightly longer (13 min) averages on weekends. Casual riders have slightly more variable average ride lengths which are consistently longer than member average ride lengths. Casual riders average ride length is around 18.5-20 min on weekdays. 24 min on weekends."
   ]
  },
  {
   "cell_type": "markdown",
   "id": "f49604b0",
   "metadata": {},
   "source": [
    "#### 3.5.3.2 number of rides for members v casual riders by day_of_week"
   ]
  },
  {
   "cell_type": "code",
   "execution_count": 72,
   "id": "59feaf4f",
   "metadata": {},
   "outputs": [],
   "source": [
    "# group by day_of_week and member_casual, then count the number of rides \n",
    "ride_counts = data.groupby(['day_of_week', 'member_casual']).size().reset_index(name='ride_count')"
   ]
  },
  {
   "cell_type": "code",
   "execution_count": 75,
   "id": "d1d89511",
   "metadata": {},
   "outputs": [],
   "source": [
    "# pivot the data for easier readability\n",
    "ride_counts_table = ride_counts.pivot(index='day_of_week', columns='member_casual', values='ride_count')"
   ]
  },
  {
   "cell_type": "code",
   "execution_count": 76,
   "id": "443bb777",
   "metadata": {},
   "outputs": [
    {
     "name": "stdout",
     "output_type": "stream",
     "text": [
      "Number of rides by day of week and member type:\n",
      "member_casual  casual  member\n",
      "day_of_week                  \n",
      "Friday         310652  508694\n",
      "Monday         245874  506664\n",
      "Saturday       437876  464178\n",
      "Sunday         362538  400634\n",
      "Thursday       260039  552535\n",
      "Tuesday        226124  544713\n",
      "Wednesday      264304  590043\n"
     ]
    }
   ],
   "source": [
    "# print the results in a clear table format\n",
    "print(\"Number of rides by day of week and member type:\")\n",
    "print(ride_counts_table)"
   ]
  }
 ],
 "metadata": {
  "kernelspec": {
   "display_name": "Python 3 (ipykernel)",
   "language": "python",
   "name": "python3"
  },
  "language_info": {
   "codemirror_mode": {
    "name": "ipython",
    "version": 3
   },
   "file_extension": ".py",
   "mimetype": "text/x-python",
   "name": "python",
   "nbconvert_exporter": "python",
   "pygments_lexer": "ipython3",
   "version": "3.11.7"
  }
 },
 "nbformat": 4,
 "nbformat_minor": 5
}
