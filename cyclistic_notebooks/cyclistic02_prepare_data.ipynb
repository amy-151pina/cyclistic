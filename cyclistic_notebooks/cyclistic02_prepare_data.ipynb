{
 "cells": [
  {
   "cell_type": "markdown",
   "id": "5337aa33",
   "metadata": {},
   "source": [
    "# 2 - PREPARE\n",
    "\n",
    "In this section I will import the monthly datasets and concatenate them to create a single DataFrame called 'df'."
   ]
  },
  {
   "cell_type": "markdown",
   "id": "1e9e9d92",
   "metadata": {},
   "source": [
    "## 2.1 Contents"
   ]
  },
  {
   "cell_type": "markdown",
   "id": "c5c118eb",
   "metadata": {},
   "source": [
    "2 PREPARE\n",
    "    2.1 Contents\n",
    "    2.2 Introduction\n",
    "    2.3 Imports\n",
    "    2.4 Objectives\n",
    "    2.5 Load Data\n",
    "    \n"
   ]
  },
  {
   "cell_type": "markdown",
   "id": "c9eafeed",
   "metadata": {},
   "source": [
    "## 2.2 Introduction"
   ]
  },
  {
   "cell_type": "markdown",
   "id": "b006419b",
   "metadata": {},
   "source": [
    "In this notebook I will collect the data, organize it and make sure it's well defined. I will then save the data and when it is ready for the next step, data cleaning."
   ]
  },
  {
   "cell_type": "markdown",
   "id": "6be27dc2",
   "metadata": {},
   "source": [
    "## 2.3 Imports"
   ]
  },
  {
   "cell_type": "code",
   "execution_count": 12,
   "id": "810518e8",
   "metadata": {},
   "outputs": [],
   "source": [
    "#import packages\n",
    "import pandas as pd\n",
    "import os"
   ]
  },
  {
   "cell_type": "markdown",
   "id": "1447d835",
   "metadata": {},
   "source": [
    "## 2.4 Objectives"
   ]
  },
  {
   "cell_type": "markdown",
   "id": "de5c091c",
   "metadata": {},
   "source": [
    "Fundamental questions to resolve in this notebook before moving on to cleaning:\n",
    "    \n",
    "    1. Do I have enough data to tackle objectives?\n",
    "            Have I identified the required target values?\n",
    "            Do I have potentially useful features?\n",
    "    2. Do I have any fundamental issues with the data?"
   ]
  },
  {
   "cell_type": "markdown",
   "id": "2d192601",
   "metadata": {},
   "source": [
    "## 2.4 Load the Data"
   ]
  },
  {
   "cell_type": "code",
   "execution_count": 40,
   "id": "9e732e8d",
   "metadata": {},
   "outputs": [],
   "source": [
    "# importing 1 csv at a time\n",
    "desktop_path1 = \"/Users/amylee/Desktop/raw_data/202401-divvy-tripdata.csv\"\n",
    "df1 = pd.read_csv(desktop_path1)"
   ]
  },
  {
   "cell_type": "code",
   "execution_count": 41,
   "id": "42ceaa75",
   "metadata": {},
   "outputs": [
    {
     "data": {
      "text/html": [
       "<div>\n",
       "<style scoped>\n",
       "    .dataframe tbody tr th:only-of-type {\n",
       "        vertical-align: middle;\n",
       "    }\n",
       "\n",
       "    .dataframe tbody tr th {\n",
       "        vertical-align: top;\n",
       "    }\n",
       "\n",
       "    .dataframe thead th {\n",
       "        text-align: right;\n",
       "    }\n",
       "</style>\n",
       "<table border=\"1\" class=\"dataframe\">\n",
       "  <thead>\n",
       "    <tr style=\"text-align: right;\">\n",
       "      <th></th>\n",
       "      <th>ride_id</th>\n",
       "      <th>rideable_type</th>\n",
       "      <th>started_at</th>\n",
       "      <th>ended_at</th>\n",
       "      <th>start_station_name</th>\n",
       "      <th>start_station_id</th>\n",
       "      <th>end_station_name</th>\n",
       "      <th>end_station_id</th>\n",
       "      <th>start_lat</th>\n",
       "      <th>start_lng</th>\n",
       "      <th>end_lat</th>\n",
       "      <th>end_lng</th>\n",
       "      <th>member_casual</th>\n",
       "    </tr>\n",
       "  </thead>\n",
       "  <tbody>\n",
       "    <tr>\n",
       "      <th>0</th>\n",
       "      <td>C1D650626C8C899A</td>\n",
       "      <td>electric_bike</td>\n",
       "      <td>2024-01-12 15:30:27</td>\n",
       "      <td>2024-01-12 15:37:59</td>\n",
       "      <td>Wells St &amp; Elm St</td>\n",
       "      <td>KA1504000135</td>\n",
       "      <td>Kingsbury St &amp; Kinzie St</td>\n",
       "      <td>KA1503000043</td>\n",
       "      <td>41.903267</td>\n",
       "      <td>-87.634737</td>\n",
       "      <td>41.889177</td>\n",
       "      <td>-87.638506</td>\n",
       "      <td>member</td>\n",
       "    </tr>\n",
       "    <tr>\n",
       "      <th>1</th>\n",
       "      <td>EECD38BDB25BFCB0</td>\n",
       "      <td>electric_bike</td>\n",
       "      <td>2024-01-08 15:45:46</td>\n",
       "      <td>2024-01-08 15:52:59</td>\n",
       "      <td>Wells St &amp; Elm St</td>\n",
       "      <td>KA1504000135</td>\n",
       "      <td>Kingsbury St &amp; Kinzie St</td>\n",
       "      <td>KA1503000043</td>\n",
       "      <td>41.902937</td>\n",
       "      <td>-87.634440</td>\n",
       "      <td>41.889177</td>\n",
       "      <td>-87.638506</td>\n",
       "      <td>member</td>\n",
       "    </tr>\n",
       "    <tr>\n",
       "      <th>2</th>\n",
       "      <td>F4A9CE78061F17F7</td>\n",
       "      <td>electric_bike</td>\n",
       "      <td>2024-01-27 12:27:19</td>\n",
       "      <td>2024-01-27 12:35:19</td>\n",
       "      <td>Wells St &amp; Elm St</td>\n",
       "      <td>KA1504000135</td>\n",
       "      <td>Kingsbury St &amp; Kinzie St</td>\n",
       "      <td>KA1503000043</td>\n",
       "      <td>41.902951</td>\n",
       "      <td>-87.634470</td>\n",
       "      <td>41.889177</td>\n",
       "      <td>-87.638506</td>\n",
       "      <td>member</td>\n",
       "    </tr>\n",
       "    <tr>\n",
       "      <th>3</th>\n",
       "      <td>0A0D9E15EE50B171</td>\n",
       "      <td>classic_bike</td>\n",
       "      <td>2024-01-29 16:26:17</td>\n",
       "      <td>2024-01-29 16:56:06</td>\n",
       "      <td>Wells St &amp; Randolph St</td>\n",
       "      <td>TA1305000030</td>\n",
       "      <td>Larrabee St &amp; Webster Ave</td>\n",
       "      <td>13193</td>\n",
       "      <td>41.884295</td>\n",
       "      <td>-87.633963</td>\n",
       "      <td>41.921822</td>\n",
       "      <td>-87.644140</td>\n",
       "      <td>member</td>\n",
       "    </tr>\n",
       "    <tr>\n",
       "      <th>4</th>\n",
       "      <td>33FFC9805E3EFF9A</td>\n",
       "      <td>classic_bike</td>\n",
       "      <td>2024-01-31 05:43:23</td>\n",
       "      <td>2024-01-31 06:09:35</td>\n",
       "      <td>Lincoln Ave &amp; Waveland Ave</td>\n",
       "      <td>13253</td>\n",
       "      <td>Kingsbury St &amp; Kinzie St</td>\n",
       "      <td>KA1503000043</td>\n",
       "      <td>41.948797</td>\n",
       "      <td>-87.675278</td>\n",
       "      <td>41.889177</td>\n",
       "      <td>-87.638506</td>\n",
       "      <td>member</td>\n",
       "    </tr>\n",
       "  </tbody>\n",
       "</table>\n",
       "</div>"
      ],
      "text/plain": [
       "            ride_id  rideable_type           started_at             ended_at  \\\n",
       "0  C1D650626C8C899A  electric_bike  2024-01-12 15:30:27  2024-01-12 15:37:59   \n",
       "1  EECD38BDB25BFCB0  electric_bike  2024-01-08 15:45:46  2024-01-08 15:52:59   \n",
       "2  F4A9CE78061F17F7  electric_bike  2024-01-27 12:27:19  2024-01-27 12:35:19   \n",
       "3  0A0D9E15EE50B171   classic_bike  2024-01-29 16:26:17  2024-01-29 16:56:06   \n",
       "4  33FFC9805E3EFF9A   classic_bike  2024-01-31 05:43:23  2024-01-31 06:09:35   \n",
       "\n",
       "           start_station_name start_station_id           end_station_name  \\\n",
       "0           Wells St & Elm St     KA1504000135   Kingsbury St & Kinzie St   \n",
       "1           Wells St & Elm St     KA1504000135   Kingsbury St & Kinzie St   \n",
       "2           Wells St & Elm St     KA1504000135   Kingsbury St & Kinzie St   \n",
       "3      Wells St & Randolph St     TA1305000030  Larrabee St & Webster Ave   \n",
       "4  Lincoln Ave & Waveland Ave            13253   Kingsbury St & Kinzie St   \n",
       "\n",
       "  end_station_id  start_lat  start_lng    end_lat    end_lng member_casual  \n",
       "0   KA1503000043  41.903267 -87.634737  41.889177 -87.638506        member  \n",
       "1   KA1503000043  41.902937 -87.634440  41.889177 -87.638506        member  \n",
       "2   KA1503000043  41.902951 -87.634470  41.889177 -87.638506        member  \n",
       "3          13193  41.884295 -87.633963  41.921822 -87.644140        member  \n",
       "4   KA1503000043  41.948797 -87.675278  41.889177 -87.638506        member  "
      ]
     },
     "execution_count": 41,
     "metadata": {},
     "output_type": "execute_result"
    }
   ],
   "source": [
    "# show first 5 rows\n",
    "df1.head()"
   ]
  },
  {
   "cell_type": "markdown",
   "id": "990726ea",
   "metadata": {},
   "source": [
    "### 2.4.1 Read monthly CSV files into DataFrames and create dictionary of DataFrames"
   ]
  },
  {
   "cell_type": "code",
   "execution_count": 52,
   "id": "fc15a050",
   "metadata": {},
   "outputs": [],
   "source": [
    "# Define the base path to your data directory\n",
    "base_path = \"/Users/amylee/Desktop/raw_data/\" \n",
    "\n",
    "# Create an empty dictionary to store the DataFrames\n",
    "dataframes = {}\n",
    "\n",
    "# Iterate through months 1 to 11\n",
    "for month in range(1, 12):\n",
    "    # Construct the filename for each month\n",
    "    filename = f\"2024{month:02d}-divvy-tripdata.csv\"  # Pad month with leading zero (e.g., '01' for Jan)\n",
    "    filepath = os.path.join(base_path, filename)\n",
    "\n",
    "    # Read csv file into a dataframe\n",
    "    try:\n",
    "        df = pd.read_csv(filepath)\n",
    "        dataframes[f\"df{month}\"] = df  # Store the DataFrame in the dictionary\n",
    "    except FileNotFoundError:\n",
    "        print(f\"Warning: File not found: {filepath}\")"
   ]
  },
  {
   "cell_type": "code",
   "execution_count": 53,
   "id": "cc52f6ef",
   "metadata": {},
   "outputs": [
    {
     "name": "stdout",
     "output_type": "stream",
     "text": [
      "            ride_id  rideable_type           started_at             ended_at  \\\n",
      "0  C1D650626C8C899A  electric_bike  2024-01-12 15:30:27  2024-01-12 15:37:59   \n",
      "1  EECD38BDB25BFCB0  electric_bike  2024-01-08 15:45:46  2024-01-08 15:52:59   \n",
      "2  F4A9CE78061F17F7  electric_bike  2024-01-27 12:27:19  2024-01-27 12:35:19   \n",
      "3  0A0D9E15EE50B171   classic_bike  2024-01-29 16:26:17  2024-01-29 16:56:06   \n",
      "4  33FFC9805E3EFF9A   classic_bike  2024-01-31 05:43:23  2024-01-31 06:09:35   \n",
      "\n",
      "           start_station_name start_station_id           end_station_name  \\\n",
      "0           Wells St & Elm St     KA1504000135   Kingsbury St & Kinzie St   \n",
      "1           Wells St & Elm St     KA1504000135   Kingsbury St & Kinzie St   \n",
      "2           Wells St & Elm St     KA1504000135   Kingsbury St & Kinzie St   \n",
      "3      Wells St & Randolph St     TA1305000030  Larrabee St & Webster Ave   \n",
      "4  Lincoln Ave & Waveland Ave            13253   Kingsbury St & Kinzie St   \n",
      "\n",
      "  end_station_id  start_lat  start_lng    end_lat    end_lng member_casual  \n",
      "0   KA1503000043  41.903267 -87.634737  41.889177 -87.638506        member  \n",
      "1   KA1503000043  41.902937 -87.634440  41.889177 -87.638506        member  \n",
      "2   KA1503000043  41.902951 -87.634470  41.889177 -87.638506        member  \n",
      "3          13193  41.884295 -87.633963  41.921822 -87.644140        member  \n",
      "4   KA1503000043  41.948797 -87.675278  41.889177 -87.638506        member  \n"
     ]
    }
   ],
   "source": [
    "# Now I have DataFrames named df1, df2, ..., df11 in the 'dataframes' dictionary\n",
    "print(dataframes[\"df1\"].head())  # Example: Access and display the first DataFrame"
   ]
  },
  {
   "cell_type": "code",
   "execution_count": 54,
   "id": "5f3bc1b9",
   "metadata": {},
   "outputs": [],
   "source": [
    "# Extract the DataFrames from the dictionary\n",
    "df1 = dataframes['df1']\n",
    "df2 = dataframes['df2']\n",
    "df3 = dataframes['df3']\n",
    "df4 = dataframes['df4']\n",
    "df5 = dataframes['df5']\n",
    "df6 = dataframes['df6']\n",
    "df7 = dataframes['df7']\n",
    "df8 = dataframes['df8']\n",
    "df9 = dataframes['df9']\n",
    "df10 = dataframes['df10']\n",
    "df11 = dataframes['df11']"
   ]
  },
  {
   "cell_type": "code",
   "execution_count": 55,
   "id": "67ea6a73",
   "metadata": {},
   "outputs": [],
   "source": [
    "# Create a list of all dataframes\n",
    "dataframes_list = [df1, df2, df3, df4, df5, df6, df7, df8, df9, df10, df11]"
   ]
  },
  {
   "cell_type": "markdown",
   "id": "908636ab",
   "metadata": {},
   "source": [
    "### 2.4.2 Concatenate monthly data into a single DataFrame 'df'"
   ]
  },
  {
   "cell_type": "code",
   "execution_count": 56,
   "id": "67be1708",
   "metadata": {},
   "outputs": [],
   "source": [
    "# Concatenate all DataFrames into a single DataFrame\n",
    "df = pd.concat(dataframes_list, ignore_index=True)"
   ]
  },
  {
   "cell_type": "code",
   "execution_count": 57,
   "id": "0fa3cfe1",
   "metadata": {},
   "outputs": [
    {
     "data": {
      "text/html": [
       "<div>\n",
       "<style scoped>\n",
       "    .dataframe tbody tr th:only-of-type {\n",
       "        vertical-align: middle;\n",
       "    }\n",
       "\n",
       "    .dataframe tbody tr th {\n",
       "        vertical-align: top;\n",
       "    }\n",
       "\n",
       "    .dataframe thead th {\n",
       "        text-align: right;\n",
       "    }\n",
       "</style>\n",
       "<table border=\"1\" class=\"dataframe\">\n",
       "  <thead>\n",
       "    <tr style=\"text-align: right;\">\n",
       "      <th></th>\n",
       "      <th>ride_id</th>\n",
       "      <th>rideable_type</th>\n",
       "      <th>started_at</th>\n",
       "      <th>ended_at</th>\n",
       "      <th>start_station_name</th>\n",
       "      <th>start_station_id</th>\n",
       "      <th>end_station_name</th>\n",
       "      <th>end_station_id</th>\n",
       "      <th>start_lat</th>\n",
       "      <th>start_lng</th>\n",
       "      <th>end_lat</th>\n",
       "      <th>end_lng</th>\n",
       "      <th>member_casual</th>\n",
       "    </tr>\n",
       "  </thead>\n",
       "  <tbody>\n",
       "    <tr>\n",
       "      <th>0</th>\n",
       "      <td>C1D650626C8C899A</td>\n",
       "      <td>electric_bike</td>\n",
       "      <td>2024-01-12 15:30:27</td>\n",
       "      <td>2024-01-12 15:37:59</td>\n",
       "      <td>Wells St &amp; Elm St</td>\n",
       "      <td>KA1504000135</td>\n",
       "      <td>Kingsbury St &amp; Kinzie St</td>\n",
       "      <td>KA1503000043</td>\n",
       "      <td>41.903267</td>\n",
       "      <td>-87.634737</td>\n",
       "      <td>41.889177</td>\n",
       "      <td>-87.638506</td>\n",
       "      <td>member</td>\n",
       "    </tr>\n",
       "    <tr>\n",
       "      <th>1</th>\n",
       "      <td>EECD38BDB25BFCB0</td>\n",
       "      <td>electric_bike</td>\n",
       "      <td>2024-01-08 15:45:46</td>\n",
       "      <td>2024-01-08 15:52:59</td>\n",
       "      <td>Wells St &amp; Elm St</td>\n",
       "      <td>KA1504000135</td>\n",
       "      <td>Kingsbury St &amp; Kinzie St</td>\n",
       "      <td>KA1503000043</td>\n",
       "      <td>41.902937</td>\n",
       "      <td>-87.634440</td>\n",
       "      <td>41.889177</td>\n",
       "      <td>-87.638506</td>\n",
       "      <td>member</td>\n",
       "    </tr>\n",
       "    <tr>\n",
       "      <th>2</th>\n",
       "      <td>F4A9CE78061F17F7</td>\n",
       "      <td>electric_bike</td>\n",
       "      <td>2024-01-27 12:27:19</td>\n",
       "      <td>2024-01-27 12:35:19</td>\n",
       "      <td>Wells St &amp; Elm St</td>\n",
       "      <td>KA1504000135</td>\n",
       "      <td>Kingsbury St &amp; Kinzie St</td>\n",
       "      <td>KA1503000043</td>\n",
       "      <td>41.902951</td>\n",
       "      <td>-87.634470</td>\n",
       "      <td>41.889177</td>\n",
       "      <td>-87.638506</td>\n",
       "      <td>member</td>\n",
       "    </tr>\n",
       "    <tr>\n",
       "      <th>3</th>\n",
       "      <td>0A0D9E15EE50B171</td>\n",
       "      <td>classic_bike</td>\n",
       "      <td>2024-01-29 16:26:17</td>\n",
       "      <td>2024-01-29 16:56:06</td>\n",
       "      <td>Wells St &amp; Randolph St</td>\n",
       "      <td>TA1305000030</td>\n",
       "      <td>Larrabee St &amp; Webster Ave</td>\n",
       "      <td>13193</td>\n",
       "      <td>41.884295</td>\n",
       "      <td>-87.633963</td>\n",
       "      <td>41.921822</td>\n",
       "      <td>-87.644140</td>\n",
       "      <td>member</td>\n",
       "    </tr>\n",
       "    <tr>\n",
       "      <th>4</th>\n",
       "      <td>33FFC9805E3EFF9A</td>\n",
       "      <td>classic_bike</td>\n",
       "      <td>2024-01-31 05:43:23</td>\n",
       "      <td>2024-01-31 06:09:35</td>\n",
       "      <td>Lincoln Ave &amp; Waveland Ave</td>\n",
       "      <td>13253</td>\n",
       "      <td>Kingsbury St &amp; Kinzie St</td>\n",
       "      <td>KA1503000043</td>\n",
       "      <td>41.948797</td>\n",
       "      <td>-87.675278</td>\n",
       "      <td>41.889177</td>\n",
       "      <td>-87.638506</td>\n",
       "      <td>member</td>\n",
       "    </tr>\n",
       "  </tbody>\n",
       "</table>\n",
       "</div>"
      ],
      "text/plain": [
       "            ride_id  rideable_type           started_at             ended_at  \\\n",
       "0  C1D650626C8C899A  electric_bike  2024-01-12 15:30:27  2024-01-12 15:37:59   \n",
       "1  EECD38BDB25BFCB0  electric_bike  2024-01-08 15:45:46  2024-01-08 15:52:59   \n",
       "2  F4A9CE78061F17F7  electric_bike  2024-01-27 12:27:19  2024-01-27 12:35:19   \n",
       "3  0A0D9E15EE50B171   classic_bike  2024-01-29 16:26:17  2024-01-29 16:56:06   \n",
       "4  33FFC9805E3EFF9A   classic_bike  2024-01-31 05:43:23  2024-01-31 06:09:35   \n",
       "\n",
       "           start_station_name start_station_id           end_station_name  \\\n",
       "0           Wells St & Elm St     KA1504000135   Kingsbury St & Kinzie St   \n",
       "1           Wells St & Elm St     KA1504000135   Kingsbury St & Kinzie St   \n",
       "2           Wells St & Elm St     KA1504000135   Kingsbury St & Kinzie St   \n",
       "3      Wells St & Randolph St     TA1305000030  Larrabee St & Webster Ave   \n",
       "4  Lincoln Ave & Waveland Ave            13253   Kingsbury St & Kinzie St   \n",
       "\n",
       "  end_station_id  start_lat  start_lng    end_lat    end_lng member_casual  \n",
       "0   KA1503000043  41.903267 -87.634737  41.889177 -87.638506        member  \n",
       "1   KA1503000043  41.902937 -87.634440  41.889177 -87.638506        member  \n",
       "2   KA1503000043  41.902951 -87.634470  41.889177 -87.638506        member  \n",
       "3          13193  41.884295 -87.633963  41.921822 -87.644140        member  \n",
       "4   KA1503000043  41.948797 -87.675278  41.889177 -87.638506        member  "
      ]
     },
     "execution_count": 57,
     "metadata": {},
     "output_type": "execute_result"
    }
   ],
   "source": [
    "# Print the first few rows of the combined DataFrame\n",
    "df.head()"
   ]
  },
  {
   "cell_type": "code",
   "execution_count": 58,
   "id": "21cfccda",
   "metadata": {
    "scrolled": true
   },
   "outputs": [
    {
     "name": "stdout",
     "output_type": "stream",
     "text": [
      "<class 'pandas.core.frame.DataFrame'>\n",
      "RangeIndex: 5682196 entries, 0 to 5682195\n",
      "Data columns (total 13 columns):\n",
      " #   Column              Dtype  \n",
      "---  ------              -----  \n",
      " 0   ride_id             object \n",
      " 1   rideable_type       object \n",
      " 2   started_at          object \n",
      " 3   ended_at            object \n",
      " 4   start_station_name  object \n",
      " 5   start_station_id    object \n",
      " 6   end_station_name    object \n",
      " 7   end_station_id      object \n",
      " 8   start_lat           float64\n",
      " 9   start_lng           float64\n",
      " 10  end_lat             float64\n",
      " 11  end_lng             float64\n",
      " 12  member_casual       object \n",
      "dtypes: float64(4), object(9)\n",
      "memory usage: 563.6+ MB\n"
     ]
    }
   ],
   "source": [
    "# High level view of dataframe info\n",
    "df.info()"
   ]
  },
  {
   "cell_type": "markdown",
   "id": "22ce1549",
   "metadata": {},
   "source": [
    "## 2.5 Save Data"
   ]
  },
  {
   "cell_type": "code",
   "execution_count": 59,
   "id": "8ddfaaac",
   "metadata": {},
   "outputs": [
    {
     "data": {
      "text/plain": [
       "(5682196, 13)"
      ]
     },
     "execution_count": 59,
     "metadata": {},
     "output_type": "execute_result"
    }
   ],
   "source": [
    "df.shape"
   ]
  },
  {
   "cell_type": "markdown",
   "id": "8782a057",
   "metadata": {},
   "source": [
    "Save this to your data directory, separately. Uploaded raw data as monthly csvs. Should save derived data in a separate location. This guards against overwriting our original data."
   ]
  },
  {
   "cell_type": "code",
   "execution_count": 60,
   "id": "aa82de08",
   "metadata": {},
   "outputs": [],
   "source": [
    "def save_file(df, filename, path):\n",
    "    \"\"\"\n",
    "    Saves a pandas DataFrame to a CSV file.\n",
    "\n",
    "    Args:\n",
    "        df: The pandas DataFrame to save.\n",
    "        filename: The name of the CSV file.\n",
    "        path: The path to the directory where the file should be saved.\n",
    "    \"\"\"\n",
    "    filepath = f\"{path}/{filename}\" \n",
    "    df.to_csv(filepath, index=False)"
   ]
  },
  {
   "cell_type": "code",
   "execution_count": 65,
   "id": "35d6f19e",
   "metadata": {},
   "outputs": [
    {
     "data": {
      "text/plain": [
       "'/Users/amylee/google_data_analytics/cyclistic_case_study/cyclistic_notebooks'"
      ]
     },
     "execution_count": 65,
     "metadata": {},
     "output_type": "execute_result"
    }
   ],
   "source": [
    "%pwd"
   ]
  },
  {
   "cell_type": "code",
   "execution_count": 67,
   "id": "4ef09b0b",
   "metadata": {},
   "outputs": [],
   "source": [
    "# save the data to a new csv file\n",
    "datapath = '/Users/amylee/google_data_analytics/cyclistic_case_study/cyclistic_notebooks'\n",
    "save_file(df, 'df_cyclistic_prepared.csv', datapath)"
   ]
  },
  {
   "cell_type": "markdown",
   "id": "d2bd2be4",
   "metadata": {},
   "source": [
    "### PREPARE SUMMARY\n",
    "\n",
    "In this section I uploaded the monthly csv data to my working directory. I read the csv files in as individual dataframes then combined them into 1 combined dataframe called 'df'.\n",
    "\n",
    "The dataframe has 12 columns with 5,682,196 entries."
   ]
  },
  {
   "cell_type": "markdown",
   "id": "7a8f43e4",
   "metadata": {},
   "source": [
    "#### Save the data"
   ]
  },
  {
   "cell_type": "code",
   "execution_count": null,
   "id": "f02eb9be",
   "metadata": {},
   "outputs": [],
   "source": [
    "df.shape"
   ]
  },
  {
   "cell_type": "markdown",
   "id": "44f5db03",
   "metadata": {},
   "source": [
    "Save this to your data directory, separately. Uploaded raw data as monthly csvs. Should save derived data in a separate location. This guards against overwriting our original data."
   ]
  },
  {
   "cell_type": "code",
   "execution_count": null,
   "id": "fb4c430d",
   "metadata": {},
   "outputs": [],
   "source": [
    "def save_file(df, filename, path):\n",
    "    \"\"\"\n",
    "    Saves a pandas DataFrame to a CSV file.\n",
    "\n",
    "    Args:\n",
    "        df: The pandas DataFrame to save.\n",
    "        filename: The name of the CSV file.\n",
    "        path: The path to the directory where the file should be saved.\n",
    "    \"\"\"\n",
    "    filepath = f\"{path}/{filename}\" \n",
    "    df.to_csv(filepath, index=False)"
   ]
  },
  {
   "cell_type": "code",
   "execution_count": null,
   "id": "b4a2477b",
   "metadata": {},
   "outputs": [],
   "source": [
    "# save the data to a new csv file\n",
    "datapath = '../data'\n",
    "save_file(df, 'df_cyclistic_clean.csv', datapath)"
   ]
  },
  {
   "cell_type": "markdown",
   "id": "158c71f2",
   "metadata": {},
   "source": [
    "### PROCESS SUMMARY\n",
    "\n",
    "Data cleaning tasks completed in this section:\n",
    "1. Ensured all columns were in appropriate data format - converted 'started_at' and 'ended_at' to datetime\n",
    "2. Addressed/eliminated null values. \n",
    "a - Dropped rows with null values in 'end_lat' and 'end_lng' columns (~0.01% of dataset).\n",
    "b - Dropped 4 columns: 'start_station_name', 'start_station_id', 'end_station_name', 'end_station_id'. 18% of observations in these columns were missing data. Dataset also contains start/end latitude/longitude so that will be used for geographical analysis. \n",
    "5. Checked for duplicates - none. Identified import error and corrected.\n",
    "\n",
    "I then added columns to calculate ride_length and the day_of_week for each ride."
   ]
  }
 ],
 "metadata": {
  "kernelspec": {
   "display_name": "Python 3 (ipykernel)",
   "language": "python",
   "name": "python3"
  },
  "language_info": {
   "codemirror_mode": {
    "name": "ipython",
    "version": 3
   },
   "file_extension": ".py",
   "mimetype": "text/x-python",
   "name": "python",
   "nbconvert_exporter": "python",
   "pygments_lexer": "ipython3",
   "version": "3.11.7"
  }
 },
 "nbformat": 4,
 "nbformat_minor": 5
}
